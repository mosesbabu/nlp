{
 "cells": [
  {
   "cell_type": "code",
   "execution_count": 1,
   "metadata": {},
   "outputs": [],
   "source": [
    "# Import libraries\n",
    "import pandas as pd\n",
    "import numpy as np\n",
    "import seaborn as sns\n",
    "import matplotlib.pyplot as plt\n",
    "from sklearn.feature_extraction.text import CountVectorizer, TfidfVectorizer\n",
    "from sklearn.tree import DecisionTreeClassifier\n",
    "from sklearn.ensemble import RandomForestClassifier\n",
    "from sklearn.model_selection import train_test_split\n",
    "from sklearn.linear_model import LinearRegression, LogisticRegression\n",
    "from sklearn.naive_bayes import MultinomialNB\n",
    "from sklearn.preprocessing import OneHotEncoder, LabelEncoder\n",
    "from nltk.stem import PorterStemmer,WordNetLemmatizer\n",
    "import matplotlib.pyplot as plt\n",
    "import nltk \n",
    "import string\n",
    "import re\n",
    "from sklearn import metrics\n",
    "from bs4 import BeautifulSoup\n",
    "from textblob import TextBlob\n",
    "from wordcloud import WordCloud, STOPWORDS\n",
    "%matplotlib inline\n",
    "pd.set_option('display.max_colwidth', 100) "
   ]
  },
  {
   "cell_type": "code",
   "execution_count": 2,
   "metadata": {},
   "outputs": [],
   "source": [
    "#Loading the data\n",
    "tweets = pd.read_csv('covid19_tweets.csv') # dataset on covid"
   ]
  },
  {
   "cell_type": "code",
   "execution_count": 3,
   "metadata": {},
   "outputs": [
    {
     "name": "stdout",
     "output_type": "stream",
     "text": [
      "<class 'pandas.core.frame.DataFrame'>\n",
      "RangeIndex: 179108 entries, 0 to 179107\n",
      "Data columns (total 13 columns):\n",
      " #   Column            Non-Null Count   Dtype \n",
      "---  ------            --------------   ----- \n",
      " 0   user_name         179108 non-null  object\n",
      " 1   user_location     142337 non-null  object\n",
      " 2   user_description  168822 non-null  object\n",
      " 3   user_created      179108 non-null  object\n",
      " 4   user_followers    179108 non-null  int64 \n",
      " 5   user_friends      179108 non-null  int64 \n",
      " 6   user_favourites   179108 non-null  int64 \n",
      " 7   user_verified     179108 non-null  bool  \n",
      " 8   date              179108 non-null  object\n",
      " 9   text              179108 non-null  object\n",
      " 10  hashtags          127774 non-null  object\n",
      " 11  source            179031 non-null  object\n",
      " 12  is_retweet        179108 non-null  bool  \n",
      "dtypes: bool(2), int64(3), object(8)\n",
      "memory usage: 15.4+ MB\n"
     ]
    }
   ],
   "source": [
    "tweets.info()"
   ]
  },
  {
   "cell_type": "code",
   "execution_count": 1,
   "metadata": {},
   "outputs": [
    {
     "ename": "NameError",
     "evalue": "name 'tweets' is not defined",
     "output_type": "error",
     "traceback": [
      "\u001b[1;31m---------------------------------------------------------------------------\u001b[0m",
      "\u001b[1;31mNameError\u001b[0m                                 Traceback (most recent call last)",
      "\u001b[1;32m<ipython-input-1-0a639b1521d0>\u001b[0m in \u001b[0;36m<module>\u001b[1;34m\u001b[0m\n\u001b[1;32m----> 1\u001b[1;33m \u001b[0mtweets\u001b[0m\u001b[1;33m.\u001b[0m\u001b[0mdescribe\u001b[0m\u001b[1;33m(\u001b[0m\u001b[1;33m)\u001b[0m\u001b[1;33m\u001b[0m\u001b[1;33m\u001b[0m\u001b[0m\n\u001b[0m",
      "\u001b[1;31mNameError\u001b[0m: name 'tweets' is not defined"
     ]
    }
   ],
   "source": [
    "tweets.describe()"
   ]
  },
  {
   "cell_type": "code",
   "execution_count": 4,
   "metadata": {},
   "outputs": [
    {
     "data": {
      "text/plain": [
       "user_name               0\n",
       "user_location       36771\n",
       "user_description    10286\n",
       "user_created            0\n",
       "user_followers          0\n",
       "user_friends            0\n",
       "user_favourites         0\n",
       "user_verified           0\n",
       "date                    0\n",
       "text                    0\n",
       "hashtags            51334\n",
       "source                 77\n",
       "is_retweet              0\n",
       "dtype: int64"
      ]
     },
     "execution_count": 4,
     "metadata": {},
     "output_type": "execute_result"
    }
   ],
   "source": [
    "#Let's find out about the missing values in the dataset by executing the code below:\n",
    "tweets.isna().sum()"
   ]
  },
  {
   "cell_type": "code",
   "execution_count": 5,
   "metadata": {},
   "outputs": [
    {
     "data": {
      "text/html": [
       "<div>\n",
       "<style scoped>\n",
       "    .dataframe tbody tr th:only-of-type {\n",
       "        vertical-align: middle;\n",
       "    }\n",
       "\n",
       "    .dataframe tbody tr th {\n",
       "        vertical-align: top;\n",
       "    }\n",
       "\n",
       "    .dataframe thead th {\n",
       "        text-align: right;\n",
       "    }\n",
       "</style>\n",
       "<table border=\"1\" class=\"dataframe\">\n",
       "  <thead>\n",
       "    <tr style=\"text-align: right;\">\n",
       "      <th></th>\n",
       "      <th>text</th>\n",
       "    </tr>\n",
       "  </thead>\n",
       "  <tbody>\n",
       "    <tr>\n",
       "      <th>0</th>\n",
       "      <td>If I smelled the scent of hand sanitizers today on someone in the past, I would think they were ...</td>\n",
       "    </tr>\n",
       "    <tr>\n",
       "      <th>1</th>\n",
       "      <td>Hey @Yankees @YankeesPR and @MLB - wouldn't it have made more sense to have the players pay thei...</td>\n",
       "    </tr>\n",
       "    <tr>\n",
       "      <th>2</th>\n",
       "      <td>@diane3443 @wdunlap @realDonaldTrump Trump never once claimed #COVID19 was a hoax. We all claim ...</td>\n",
       "    </tr>\n",
       "    <tr>\n",
       "      <th>3</th>\n",
       "      <td>@brookbanktv The one gift #COVID19 has give me is an appreciation for the simple things that wer...</td>\n",
       "    </tr>\n",
       "    <tr>\n",
       "      <th>4</th>\n",
       "      <td>25 July : Media Bulletin on Novel #CoronaVirusUpdates #COVID19 \\n@kansalrohit69 @DrSyedSehrish @...</td>\n",
       "    </tr>\n",
       "  </tbody>\n",
       "</table>\n",
       "</div>"
      ],
      "text/plain": [
       "                                                                                                  text\n",
       "0  If I smelled the scent of hand sanitizers today on someone in the past, I would think they were ...\n",
       "1  Hey @Yankees @YankeesPR and @MLB - wouldn't it have made more sense to have the players pay thei...\n",
       "2  @diane3443 @wdunlap @realDonaldTrump Trump never once claimed #COVID19 was a hoax. We all claim ...\n",
       "3  @brookbanktv The one gift #COVID19 has give me is an appreciation for the simple things that wer...\n",
       "4  25 July : Media Bulletin on Novel #CoronaVirusUpdates #COVID19 \\n@kansalrohit69 @DrSyedSehrish @..."
      ]
     },
     "execution_count": 5,
     "metadata": {},
     "output_type": "execute_result"
    }
   ],
   "source": [
    "tweets = tweets.drop(columns=['user_name','user_location','user_description','user_created','user_followers','user_friends','user_favourites','user_verified','date','hashtags','source','is_retweet']) # dropping dat column since the date is not relevant for classification\n",
    "tweets.head() # first 5 rows data of dataset file"
   ]
  },
  {
   "cell_type": "markdown",
   "metadata": {},
   "source": [
    "# CLEANING THE TWEETS"
   ]
  },
  {
   "cell_type": "code",
   "execution_count": 6,
   "metadata": {},
   "outputs": [
    {
     "data": {
      "text/html": [
       "<div>\n",
       "<style scoped>\n",
       "    .dataframe tbody tr th:only-of-type {\n",
       "        vertical-align: middle;\n",
       "    }\n",
       "\n",
       "    .dataframe tbody tr th {\n",
       "        vertical-align: top;\n",
       "    }\n",
       "\n",
       "    .dataframe thead th {\n",
       "        text-align: right;\n",
       "    }\n",
       "</style>\n",
       "<table border=\"1\" class=\"dataframe\">\n",
       "  <thead>\n",
       "    <tr style=\"text-align: right;\">\n",
       "      <th></th>\n",
       "      <th>text</th>\n",
       "      <th>cleaned_text</th>\n",
       "    </tr>\n",
       "  </thead>\n",
       "  <tbody>\n",
       "    <tr>\n",
       "      <th>0</th>\n",
       "      <td>If I smelled the scent of hand sanitizers today on someone in the past, I would think they were ...</td>\n",
       "      <td>if i smelled the scent of hand sanitizers today on someone in the past i would think they were s...</td>\n",
       "    </tr>\n",
       "    <tr>\n",
       "      <th>1</th>\n",
       "      <td>Hey @Yankees @YankeesPR and @MLB - wouldn't it have made more sense to have the players pay thei...</td>\n",
       "      <td>hey and wouldnt it have made more sense to have the players pay their respects to the a https tc...</td>\n",
       "    </tr>\n",
       "    <tr>\n",
       "      <th>2</th>\n",
       "      <td>@diane3443 @wdunlap @realDonaldTrump Trump never once claimed #COVID19 was a hoax. We all claim ...</td>\n",
       "      <td>trump never once claimed #covid19 was a hoax we all claim that this effort to https tco jkk8vhwhb3</td>\n",
       "    </tr>\n",
       "    <tr>\n",
       "      <th>3</th>\n",
       "      <td>@brookbanktv The one gift #COVID19 has give me is an appreciation for the simple things that wer...</td>\n",
       "      <td>the one gift #covid19 has give me is an appreciation for the simple things that were always arou...</td>\n",
       "    </tr>\n",
       "    <tr>\n",
       "      <th>4</th>\n",
       "      <td>25 July : Media Bulletin on Novel #CoronaVirusUpdates #COVID19 \\n@kansalrohit69 @DrSyedSehrish @...</td>\n",
       "      <td>25 july media bulletin on novel #coronavirusupdates #covid19 https tco mn0eecsjhh</td>\n",
       "    </tr>\n",
       "  </tbody>\n",
       "</table>\n",
       "</div>"
      ],
      "text/plain": [
       "                                                                                                  text  \\\n",
       "0  If I smelled the scent of hand sanitizers today on someone in the past, I would think they were ...   \n",
       "1  Hey @Yankees @YankeesPR and @MLB - wouldn't it have made more sense to have the players pay thei...   \n",
       "2  @diane3443 @wdunlap @realDonaldTrump Trump never once claimed #COVID19 was a hoax. We all claim ...   \n",
       "3  @brookbanktv The one gift #COVID19 has give me is an appreciation for the simple things that wer...   \n",
       "4  25 July : Media Bulletin on Novel #CoronaVirusUpdates #COVID19 \\n@kansalrohit69 @DrSyedSehrish @...   \n",
       "\n",
       "                                                                                          cleaned_text  \n",
       "0  if i smelled the scent of hand sanitizers today on someone in the past i would think they were s...  \n",
       "1  hey and wouldnt it have made more sense to have the players pay their respects to the a https tc...  \n",
       "2   trump never once claimed #covid19 was a hoax we all claim that this effort to https tco jkk8vhwhb3  \n",
       "3  the one gift #covid19 has give me is an appreciation for the simple things that were always arou...  \n",
       "4                    25 july media bulletin on novel #coronavirusupdates #covid19 https tco mn0eecsjhh  "
      ]
     },
     "execution_count": 6,
     "metadata": {},
     "output_type": "execute_result"
    }
   ],
   "source": [
    "#combine a regular expression pattern into pattern objects\n",
    "space_replace = re.compile('[/(){}\\[\\]\\|@,;]') \n",
    "bad_symbols = re.compile('[^0-9a-z #+_]')\n",
    "#stopwords = nltk.corpus.stopwords.words('english')\n",
    "stopwords = ['rt', 'RT', 'brt']\n",
    "#stopwords.extend(extensions)\n",
    "urls = re.compile('http[s]?://(?:[a-zA-Z]|[0-9]|[$-_@.&+]|'\n",
    "            '[!*\\(\\),]|(?:%[0-9a-fA-F][0-9a-fA-F]))+' 'rt')\n",
    "usernames = re.compile(\"@[A-Za-z0-9_]+\")\n",
    "def text_cleaning(text):\n",
    "    text = usernames.sub(' ', text)\n",
    "    text = BeautifulSoup(text, \"lxml\").text #removing any html decoding\n",
    "    text = text.lower() #removing capitalization\n",
    "    text = space_replace.sub(' ', text)#replacing symbols with a space\n",
    "    text = bad_symbols.sub('', text) #deleting symbols from the text\n",
    "    text = ' '.join(word for word in text.split() if word not in stopwords) #removing stopwords\n",
    "    text = urls.sub('', text)#removing urls\n",
    "    return text\n",
    "tweets['cleaned_text'] = tweets['text'].apply(text_cleaning)\n",
    "tweets.head()"
   ]
  },
  {
   "cell_type": "code",
   "execution_count": 7,
   "metadata": {},
   "outputs": [
    {
     "data": {
      "text/html": [
       "<div>\n",
       "<style scoped>\n",
       "    .dataframe tbody tr th:only-of-type {\n",
       "        vertical-align: middle;\n",
       "    }\n",
       "\n",
       "    .dataframe tbody tr th {\n",
       "        vertical-align: top;\n",
       "    }\n",
       "\n",
       "    .dataframe thead th {\n",
       "        text-align: right;\n",
       "    }\n",
       "</style>\n",
       "<table border=\"1\" class=\"dataframe\">\n",
       "  <thead>\n",
       "    <tr style=\"text-align: right;\">\n",
       "      <th></th>\n",
       "      <th>text</th>\n",
       "      <th>cleaned_text</th>\n",
       "      <th>tokenized_text</th>\n",
       "    </tr>\n",
       "  </thead>\n",
       "  <tbody>\n",
       "    <tr>\n",
       "      <th>0</th>\n",
       "      <td>If I smelled the scent of hand sanitizers today on someone in the past, I would think they were ...</td>\n",
       "      <td>if i smelled the scent of hand sanitizers today on someone in the past i would think they were s...</td>\n",
       "      <td>[if, i, smelled, the, scent, of, hand, sanitizers, today, on, someone, in, the, past, i, would, ...</td>\n",
       "    </tr>\n",
       "    <tr>\n",
       "      <th>1</th>\n",
       "      <td>Hey @Yankees @YankeesPR and @MLB - wouldn't it have made more sense to have the players pay thei...</td>\n",
       "      <td>hey and wouldnt it have made more sense to have the players pay their respects to the a https tc...</td>\n",
       "      <td>[hey, and, wouldnt, it, have, made, more, sense, to, have, the, players, pay, their, respects, t...</td>\n",
       "    </tr>\n",
       "    <tr>\n",
       "      <th>2</th>\n",
       "      <td>@diane3443 @wdunlap @realDonaldTrump Trump never once claimed #COVID19 was a hoax. We all claim ...</td>\n",
       "      <td>trump never once claimed #covid19 was a hoax we all claim that this effort to https tco jkk8vhwhb3</td>\n",
       "      <td>[trump, never, once, claimed, covid19, was, a, hoax, we, all, claim, that, this, effort, to, htt...</td>\n",
       "    </tr>\n",
       "    <tr>\n",
       "      <th>3</th>\n",
       "      <td>@brookbanktv The one gift #COVID19 has give me is an appreciation for the simple things that wer...</td>\n",
       "      <td>the one gift #covid19 has give me is an appreciation for the simple things that were always arou...</td>\n",
       "      <td>[the, one, gift, covid19, has, give, me, is, an, appreciation, for, the, simple, things, that, w...</td>\n",
       "    </tr>\n",
       "    <tr>\n",
       "      <th>4</th>\n",
       "      <td>25 July : Media Bulletin on Novel #CoronaVirusUpdates #COVID19 \\n@kansalrohit69 @DrSyedSehrish @...</td>\n",
       "      <td>25 july media bulletin on novel #coronavirusupdates #covid19 https tco mn0eecsjhh</td>\n",
       "      <td>[25, july, media, bulletin, on, novel, coronavirusupdates, covid19, https, tco, mn0eecsjhh]</td>\n",
       "    </tr>\n",
       "  </tbody>\n",
       "</table>\n",
       "</div>"
      ],
      "text/plain": [
       "                                                                                                  text  \\\n",
       "0  If I smelled the scent of hand sanitizers today on someone in the past, I would think they were ...   \n",
       "1  Hey @Yankees @YankeesPR and @MLB - wouldn't it have made more sense to have the players pay thei...   \n",
       "2  @diane3443 @wdunlap @realDonaldTrump Trump never once claimed #COVID19 was a hoax. We all claim ...   \n",
       "3  @brookbanktv The one gift #COVID19 has give me is an appreciation for the simple things that wer...   \n",
       "4  25 July : Media Bulletin on Novel #CoronaVirusUpdates #COVID19 \\n@kansalrohit69 @DrSyedSehrish @...   \n",
       "\n",
       "                                                                                          cleaned_text  \\\n",
       "0  if i smelled the scent of hand sanitizers today on someone in the past i would think they were s...   \n",
       "1  hey and wouldnt it have made more sense to have the players pay their respects to the a https tc...   \n",
       "2   trump never once claimed #covid19 was a hoax we all claim that this effort to https tco jkk8vhwhb3   \n",
       "3  the one gift #covid19 has give me is an appreciation for the simple things that were always arou...   \n",
       "4                    25 july media bulletin on novel #coronavirusupdates #covid19 https tco mn0eecsjhh   \n",
       "\n",
       "                                                                                        tokenized_text  \n",
       "0  [if, i, smelled, the, scent, of, hand, sanitizers, today, on, someone, in, the, past, i, would, ...  \n",
       "1  [hey, and, wouldnt, it, have, made, more, sense, to, have, the, players, pay, their, respects, t...  \n",
       "2  [trump, never, once, claimed, covid19, was, a, hoax, we, all, claim, that, this, effort, to, htt...  \n",
       "3  [the, one, gift, covid19, has, give, me, is, an, appreciation, for, the, simple, things, that, w...  \n",
       "4          [25, july, media, bulletin, on, novel, coronavirusupdates, covid19, https, tco, mn0eecsjhh]  "
      ]
     },
     "execution_count": 7,
     "metadata": {},
     "output_type": "execute_result"
    }
   ],
   "source": [
    "#tokenizing the words\n",
    "def word_tokenizer(text):\n",
    "    word_tokens = re.split('\\W+', text)\n",
    "    return word_tokens\n",
    "\n",
    "'''to process text, we need to split it into smaller chunks. \n",
    "Here, I’ve split sentences into words using WordPunctTokenizer from the nltk library.'''\n",
    "tweets['tokenized_text'] = tweets['cleaned_text'].apply(lambda x: word_tokenizer(x.lower())) #  make list of relevant wordsin lower case( without stopwords)\n",
    "tweets.head()\n"
   ]
  },
  {
   "cell_type": "code",
   "execution_count": 8,
   "metadata": {},
   "outputs": [
    {
     "name": "stderr",
     "output_type": "stream",
     "text": [
      "[nltk_data] Downloading package stopwords to\n",
      "[nltk_data]     C:\\Users\\shara\\AppData\\Roaming\\nltk_data...\n",
      "[nltk_data]   Unzipping corpora\\stopwords.zip.\n"
     ]
    },
    {
     "data": {
      "text/plain": [
       "True"
      ]
     },
     "execution_count": 8,
     "metadata": {},
     "output_type": "execute_result"
    }
   ],
   "source": [
    "nltk.download('stopwords')"
   ]
  },
  {
   "cell_type": "code",
   "execution_count": 9,
   "metadata": {},
   "outputs": [
    {
     "data": {
      "text/html": [
       "<div>\n",
       "<style scoped>\n",
       "    .dataframe tbody tr th:only-of-type {\n",
       "        vertical-align: middle;\n",
       "    }\n",
       "\n",
       "    .dataframe tbody tr th {\n",
       "        vertical-align: top;\n",
       "    }\n",
       "\n",
       "    .dataframe thead th {\n",
       "        text-align: right;\n",
       "    }\n",
       "</style>\n",
       "<table border=\"1\" class=\"dataframe\">\n",
       "  <thead>\n",
       "    <tr style=\"text-align: right;\">\n",
       "      <th></th>\n",
       "      <th>text</th>\n",
       "      <th>cleaned_text</th>\n",
       "      <th>tokenized_text</th>\n",
       "      <th>no_stopwords</th>\n",
       "    </tr>\n",
       "  </thead>\n",
       "  <tbody>\n",
       "    <tr>\n",
       "      <th>0</th>\n",
       "      <td>If I smelled the scent of hand sanitizers today on someone in the past, I would think they were ...</td>\n",
       "      <td>if i smelled the scent of hand sanitizers today on someone in the past i would think they were s...</td>\n",
       "      <td>[if, i, smelled, the, scent, of, hand, sanitizers, today, on, someone, in, the, past, i, would, ...</td>\n",
       "      <td>[smelled, scent, hand, sanitizers, today, someone, past, would, think, intoxicated, https, tco, ...</td>\n",
       "    </tr>\n",
       "    <tr>\n",
       "      <th>1</th>\n",
       "      <td>Hey @Yankees @YankeesPR and @MLB - wouldn't it have made more sense to have the players pay thei...</td>\n",
       "      <td>hey and wouldnt it have made more sense to have the players pay their respects to the a https tc...</td>\n",
       "      <td>[hey, and, wouldnt, it, have, made, more, sense, to, have, the, players, pay, their, respects, t...</td>\n",
       "      <td>[hey, wouldnt, made, sense, players, pay, respects, https, tco, 1qvw0zgypu]</td>\n",
       "    </tr>\n",
       "    <tr>\n",
       "      <th>2</th>\n",
       "      <td>@diane3443 @wdunlap @realDonaldTrump Trump never once claimed #COVID19 was a hoax. We all claim ...</td>\n",
       "      <td>trump never once claimed #covid19 was a hoax we all claim that this effort to https tco jkk8vhwhb3</td>\n",
       "      <td>[trump, never, once, claimed, covid19, was, a, hoax, we, all, claim, that, this, effort, to, htt...</td>\n",
       "      <td>[trump, never, claimed, covid19, hoax, claim, effort, https, tco, jkk8vhwhb3]</td>\n",
       "    </tr>\n",
       "    <tr>\n",
       "      <th>3</th>\n",
       "      <td>@brookbanktv The one gift #COVID19 has give me is an appreciation for the simple things that wer...</td>\n",
       "      <td>the one gift #covid19 has give me is an appreciation for the simple things that were always arou...</td>\n",
       "      <td>[the, one, gift, covid19, has, give, me, is, an, appreciation, for, the, simple, things, that, w...</td>\n",
       "      <td>[one, gift, covid19, give, appreciation, simple, things, always, around, https, tco, z0poalfxcw]</td>\n",
       "    </tr>\n",
       "    <tr>\n",
       "      <th>4</th>\n",
       "      <td>25 July : Media Bulletin on Novel #CoronaVirusUpdates #COVID19 \\n@kansalrohit69 @DrSyedSehrish @...</td>\n",
       "      <td>25 july media bulletin on novel #coronavirusupdates #covid19 https tco mn0eecsjhh</td>\n",
       "      <td>[25, july, media, bulletin, on, novel, coronavirusupdates, covid19, https, tco, mn0eecsjhh]</td>\n",
       "      <td>[25, july, media, bulletin, novel, coronavirusupdates, covid19, https, tco, mn0eecsjhh]</td>\n",
       "    </tr>\n",
       "  </tbody>\n",
       "</table>\n",
       "</div>"
      ],
      "text/plain": [
       "                                                                                                  text  \\\n",
       "0  If I smelled the scent of hand sanitizers today on someone in the past, I would think they were ...   \n",
       "1  Hey @Yankees @YankeesPR and @MLB - wouldn't it have made more sense to have the players pay thei...   \n",
       "2  @diane3443 @wdunlap @realDonaldTrump Trump never once claimed #COVID19 was a hoax. We all claim ...   \n",
       "3  @brookbanktv The one gift #COVID19 has give me is an appreciation for the simple things that wer...   \n",
       "4  25 July : Media Bulletin on Novel #CoronaVirusUpdates #COVID19 \\n@kansalrohit69 @DrSyedSehrish @...   \n",
       "\n",
       "                                                                                          cleaned_text  \\\n",
       "0  if i smelled the scent of hand sanitizers today on someone in the past i would think they were s...   \n",
       "1  hey and wouldnt it have made more sense to have the players pay their respects to the a https tc...   \n",
       "2   trump never once claimed #covid19 was a hoax we all claim that this effort to https tco jkk8vhwhb3   \n",
       "3  the one gift #covid19 has give me is an appreciation for the simple things that were always arou...   \n",
       "4                    25 july media bulletin on novel #coronavirusupdates #covid19 https tco mn0eecsjhh   \n",
       "\n",
       "                                                                                        tokenized_text  \\\n",
       "0  [if, i, smelled, the, scent, of, hand, sanitizers, today, on, someone, in, the, past, i, would, ...   \n",
       "1  [hey, and, wouldnt, it, have, made, more, sense, to, have, the, players, pay, their, respects, t...   \n",
       "2  [trump, never, once, claimed, covid19, was, a, hoax, we, all, claim, that, this, effort, to, htt...   \n",
       "3  [the, one, gift, covid19, has, give, me, is, an, appreciation, for, the, simple, things, that, w...   \n",
       "4          [25, july, media, bulletin, on, novel, coronavirusupdates, covid19, https, tco, mn0eecsjhh]   \n",
       "\n",
       "                                                                                          no_stopwords  \n",
       "0  [smelled, scent, hand, sanitizers, today, someone, past, would, think, intoxicated, https, tco, ...  \n",
       "1                          [hey, wouldnt, made, sense, players, pay, respects, https, tco, 1qvw0zgypu]  \n",
       "2                        [trump, never, claimed, covid19, hoax, claim, effort, https, tco, jkk8vhwhb3]  \n",
       "3     [one, gift, covid19, give, appreciation, simple, things, always, around, https, tco, z0poalfxcw]  \n",
       "4              [25, july, media, bulletin, novel, coronavirusupdates, covid19, https, tco, mn0eecsjhh]  "
      ]
     },
     "execution_count": 9,
     "metadata": {},
     "output_type": "execute_result"
    }
   ],
   "source": [
    "#removing stopwords\n",
    "'''removed stopwords since they add noise without bringing any information value in modeling. \n",
    "I’ve downloaded a list of English stopwords from the nltk package and deleted them from the text corpus.'''\n",
    "stopwords = nltk.corpus.stopwords.words('english') \n",
    "\n",
    "def stopword_remover(text):\n",
    "    cleaned_text = [word for word in text if word not in stopwords]\n",
    "    return cleaned_text\n",
    "\n",
    "tweets['no_stopwords'] =tweets['tokenized_text'].apply(lambda x: stopword_remover(x))\n",
    "tweets.head()"
   ]
  },
  {
   "cell_type": "code",
   "execution_count": 10,
   "metadata": {},
   "outputs": [
    {
     "data": {
      "text/html": [
       "<div>\n",
       "<style scoped>\n",
       "    .dataframe tbody tr th:only-of-type {\n",
       "        vertical-align: middle;\n",
       "    }\n",
       "\n",
       "    .dataframe tbody tr th {\n",
       "        vertical-align: top;\n",
       "    }\n",
       "\n",
       "    .dataframe thead th {\n",
       "        text-align: right;\n",
       "    }\n",
       "</style>\n",
       "<table border=\"1\" class=\"dataframe\">\n",
       "  <thead>\n",
       "    <tr style=\"text-align: right;\">\n",
       "      <th></th>\n",
       "      <th>text</th>\n",
       "      <th>cleaned_text</th>\n",
       "      <th>tokenized_text</th>\n",
       "      <th>no_stopwords</th>\n",
       "      <th>stemmed_text</th>\n",
       "    </tr>\n",
       "  </thead>\n",
       "  <tbody>\n",
       "    <tr>\n",
       "      <th>0</th>\n",
       "      <td>If I smelled the scent of hand sanitizers today on someone in the past, I would think they were ...</td>\n",
       "      <td>if i smelled the scent of hand sanitizers today on someone in the past i would think they were s...</td>\n",
       "      <td>[if, i, smelled, the, scent, of, hand, sanitizers, today, on, someone, in, the, past, i, would, ...</td>\n",
       "      <td>[smelled, scent, hand, sanitizers, today, someone, past, would, think, intoxicated, https, tco, ...</td>\n",
       "      <td>[smell, scent, hand, sanit, today, someon, past, would, think, intox, http, tco, qzvybrogb0]</td>\n",
       "    </tr>\n",
       "    <tr>\n",
       "      <th>1</th>\n",
       "      <td>Hey @Yankees @YankeesPR and @MLB - wouldn't it have made more sense to have the players pay thei...</td>\n",
       "      <td>hey and wouldnt it have made more sense to have the players pay their respects to the a https tc...</td>\n",
       "      <td>[hey, and, wouldnt, it, have, made, more, sense, to, have, the, players, pay, their, respects, t...</td>\n",
       "      <td>[hey, wouldnt, made, sense, players, pay, respects, https, tco, 1qvw0zgypu]</td>\n",
       "      <td>[hey, wouldnt, made, sens, player, pay, respect, http, tco, 1qvw0zgypu]</td>\n",
       "    </tr>\n",
       "    <tr>\n",
       "      <th>2</th>\n",
       "      <td>@diane3443 @wdunlap @realDonaldTrump Trump never once claimed #COVID19 was a hoax. We all claim ...</td>\n",
       "      <td>trump never once claimed #covid19 was a hoax we all claim that this effort to https tco jkk8vhwhb3</td>\n",
       "      <td>[trump, never, once, claimed, covid19, was, a, hoax, we, all, claim, that, this, effort, to, htt...</td>\n",
       "      <td>[trump, never, claimed, covid19, hoax, claim, effort, https, tco, jkk8vhwhb3]</td>\n",
       "      <td>[trump, never, claim, covid19, hoax, claim, effort, http, tco, jkk8vhwhb3]</td>\n",
       "    </tr>\n",
       "    <tr>\n",
       "      <th>3</th>\n",
       "      <td>@brookbanktv The one gift #COVID19 has give me is an appreciation for the simple things that wer...</td>\n",
       "      <td>the one gift #covid19 has give me is an appreciation for the simple things that were always arou...</td>\n",
       "      <td>[the, one, gift, covid19, has, give, me, is, an, appreciation, for, the, simple, things, that, w...</td>\n",
       "      <td>[one, gift, covid19, give, appreciation, simple, things, always, around, https, tco, z0poalfxcw]</td>\n",
       "      <td>[one, gift, covid19, give, appreci, simpl, thing, alway, around, http, tco, z0poalfxcw]</td>\n",
       "    </tr>\n",
       "    <tr>\n",
       "      <th>4</th>\n",
       "      <td>25 July : Media Bulletin on Novel #CoronaVirusUpdates #COVID19 \\n@kansalrohit69 @DrSyedSehrish @...</td>\n",
       "      <td>25 july media bulletin on novel #coronavirusupdates #covid19 https tco mn0eecsjhh</td>\n",
       "      <td>[25, july, media, bulletin, on, novel, coronavirusupdates, covid19, https, tco, mn0eecsjhh]</td>\n",
       "      <td>[25, july, media, bulletin, novel, coronavirusupdates, covid19, https, tco, mn0eecsjhh]</td>\n",
       "      <td>[25, juli, media, bulletin, novel, coronavirusupd, covid19, http, tco, mn0eecsjhh]</td>\n",
       "    </tr>\n",
       "  </tbody>\n",
       "</table>\n",
       "</div>"
      ],
      "text/plain": [
       "                                                                                                  text  \\\n",
       "0  If I smelled the scent of hand sanitizers today on someone in the past, I would think they were ...   \n",
       "1  Hey @Yankees @YankeesPR and @MLB - wouldn't it have made more sense to have the players pay thei...   \n",
       "2  @diane3443 @wdunlap @realDonaldTrump Trump never once claimed #COVID19 was a hoax. We all claim ...   \n",
       "3  @brookbanktv The one gift #COVID19 has give me is an appreciation for the simple things that wer...   \n",
       "4  25 July : Media Bulletin on Novel #CoronaVirusUpdates #COVID19 \\n@kansalrohit69 @DrSyedSehrish @...   \n",
       "\n",
       "                                                                                          cleaned_text  \\\n",
       "0  if i smelled the scent of hand sanitizers today on someone in the past i would think they were s...   \n",
       "1  hey and wouldnt it have made more sense to have the players pay their respects to the a https tc...   \n",
       "2   trump never once claimed #covid19 was a hoax we all claim that this effort to https tco jkk8vhwhb3   \n",
       "3  the one gift #covid19 has give me is an appreciation for the simple things that were always arou...   \n",
       "4                    25 july media bulletin on novel #coronavirusupdates #covid19 https tco mn0eecsjhh   \n",
       "\n",
       "                                                                                        tokenized_text  \\\n",
       "0  [if, i, smelled, the, scent, of, hand, sanitizers, today, on, someone, in, the, past, i, would, ...   \n",
       "1  [hey, and, wouldnt, it, have, made, more, sense, to, have, the, players, pay, their, respects, t...   \n",
       "2  [trump, never, once, claimed, covid19, was, a, hoax, we, all, claim, that, this, effort, to, htt...   \n",
       "3  [the, one, gift, covid19, has, give, me, is, an, appreciation, for, the, simple, things, that, w...   \n",
       "4          [25, july, media, bulletin, on, novel, coronavirusupdates, covid19, https, tco, mn0eecsjhh]   \n",
       "\n",
       "                                                                                          no_stopwords  \\\n",
       "0  [smelled, scent, hand, sanitizers, today, someone, past, would, think, intoxicated, https, tco, ...   \n",
       "1                          [hey, wouldnt, made, sense, players, pay, respects, https, tco, 1qvw0zgypu]   \n",
       "2                        [trump, never, claimed, covid19, hoax, claim, effort, https, tco, jkk8vhwhb3]   \n",
       "3     [one, gift, covid19, give, appreciation, simple, things, always, around, https, tco, z0poalfxcw]   \n",
       "4              [25, july, media, bulletin, novel, coronavirusupdates, covid19, https, tco, mn0eecsjhh]   \n",
       "\n",
       "                                                                                   stemmed_text  \n",
       "0  [smell, scent, hand, sanit, today, someon, past, would, think, intox, http, tco, qzvybrogb0]  \n",
       "1                       [hey, wouldnt, made, sens, player, pay, respect, http, tco, 1qvw0zgypu]  \n",
       "2                    [trump, never, claim, covid19, hoax, claim, effort, http, tco, jkk8vhwhb3]  \n",
       "3       [one, gift, covid19, give, appreci, simpl, thing, alway, around, http, tco, z0poalfxcw]  \n",
       "4            [25, juli, media, bulletin, novel, coronavirusupd, covid19, http, tco, mn0eecsjhh]  "
      ]
     },
     "execution_count": 10,
     "metadata": {},
     "output_type": "execute_result"
    }
   ],
   "source": [
    "#Stemming words\n",
    "porter_stemmer = PorterStemmer()\n",
    "def word_stemer(text):\n",
    "    stemmed_text = [porter_stemmer.stem(word) for word in text]\n",
    "    return stemmed_text\n",
    "tweets['stemmed_text'] = tweets['no_stopwords'].apply(lambda x: word_stemer(x))\n",
    "tweets.head()"
   ]
  },
  {
   "cell_type": "code",
   "execution_count": 11,
   "metadata": {},
   "outputs": [
    {
     "name": "stderr",
     "output_type": "stream",
     "text": [
      "[nltk_data] Downloading package wordnet to\n",
      "[nltk_data]     C:\\Users\\shara\\AppData\\Roaming\\nltk_data...\n",
      "[nltk_data]   Package wordnet is already up-to-date!\n"
     ]
    },
    {
     "data": {
      "text/plain": [
       "True"
      ]
     },
     "execution_count": 11,
     "metadata": {},
     "output_type": "execute_result"
    }
   ],
   "source": [
    "nltk.download('wordnet')"
   ]
  },
  {
   "cell_type": "code",
   "execution_count": 12,
   "metadata": {},
   "outputs": [
    {
     "data": {
      "text/html": [
       "<div>\n",
       "<style scoped>\n",
       "    .dataframe tbody tr th:only-of-type {\n",
       "        vertical-align: middle;\n",
       "    }\n",
       "\n",
       "    .dataframe tbody tr th {\n",
       "        vertical-align: top;\n",
       "    }\n",
       "\n",
       "    .dataframe thead th {\n",
       "        text-align: right;\n",
       "    }\n",
       "</style>\n",
       "<table border=\"1\" class=\"dataframe\">\n",
       "  <thead>\n",
       "    <tr style=\"text-align: right;\">\n",
       "      <th></th>\n",
       "      <th>text</th>\n",
       "      <th>cleaned_text</th>\n",
       "      <th>tokenized_text</th>\n",
       "      <th>no_stopwords</th>\n",
       "      <th>stemmed_text</th>\n",
       "      <th>Lemmatized_text</th>\n",
       "    </tr>\n",
       "  </thead>\n",
       "  <tbody>\n",
       "    <tr>\n",
       "      <th>0</th>\n",
       "      <td>If I smelled the scent of hand sanitizers today on someone in the past, I would think they were ...</td>\n",
       "      <td>if i smelled the scent of hand sanitizers today on someone in the past i would think they were s...</td>\n",
       "      <td>[if, i, smelled, the, scent, of, hand, sanitizers, today, on, someone, in, the, past, i, would, ...</td>\n",
       "      <td>[smelled, scent, hand, sanitizers, today, someone, past, would, think, intoxicated, https, tco, ...</td>\n",
       "      <td>[smell, scent, hand, sanit, today, someon, past, would, think, intox, http, tco, qzvybrogb0]</td>\n",
       "      <td>[smelled, scent, hand, sanitizers, today, someone, past, would, think, intoxicated, http, tco, q...</td>\n",
       "    </tr>\n",
       "    <tr>\n",
       "      <th>1</th>\n",
       "      <td>Hey @Yankees @YankeesPR and @MLB - wouldn't it have made more sense to have the players pay thei...</td>\n",
       "      <td>hey and wouldnt it have made more sense to have the players pay their respects to the a https tc...</td>\n",
       "      <td>[hey, and, wouldnt, it, have, made, more, sense, to, have, the, players, pay, their, respects, t...</td>\n",
       "      <td>[hey, wouldnt, made, sense, players, pay, respects, https, tco, 1qvw0zgypu]</td>\n",
       "      <td>[hey, wouldnt, made, sens, player, pay, respect, http, tco, 1qvw0zgypu]</td>\n",
       "      <td>[hey, wouldnt, made, sense, player, pay, respect, http, tco, 1qvw0zgypu]</td>\n",
       "    </tr>\n",
       "    <tr>\n",
       "      <th>2</th>\n",
       "      <td>@diane3443 @wdunlap @realDonaldTrump Trump never once claimed #COVID19 was a hoax. We all claim ...</td>\n",
       "      <td>trump never once claimed #covid19 was a hoax we all claim that this effort to https tco jkk8vhwhb3</td>\n",
       "      <td>[trump, never, once, claimed, covid19, was, a, hoax, we, all, claim, that, this, effort, to, htt...</td>\n",
       "      <td>[trump, never, claimed, covid19, hoax, claim, effort, https, tco, jkk8vhwhb3]</td>\n",
       "      <td>[trump, never, claim, covid19, hoax, claim, effort, http, tco, jkk8vhwhb3]</td>\n",
       "      <td>[trump, never, claimed, covid19, hoax, claim, effort, http, tco, jkk8vhwhb3]</td>\n",
       "    </tr>\n",
       "    <tr>\n",
       "      <th>3</th>\n",
       "      <td>@brookbanktv The one gift #COVID19 has give me is an appreciation for the simple things that wer...</td>\n",
       "      <td>the one gift #covid19 has give me is an appreciation for the simple things that were always arou...</td>\n",
       "      <td>[the, one, gift, covid19, has, give, me, is, an, appreciation, for, the, simple, things, that, w...</td>\n",
       "      <td>[one, gift, covid19, give, appreciation, simple, things, always, around, https, tco, z0poalfxcw]</td>\n",
       "      <td>[one, gift, covid19, give, appreci, simpl, thing, alway, around, http, tco, z0poalfxcw]</td>\n",
       "      <td>[one, gift, covid19, give, appreciation, simple, thing, always, around, http, tco, z0poalfxcw]</td>\n",
       "    </tr>\n",
       "    <tr>\n",
       "      <th>4</th>\n",
       "      <td>25 July : Media Bulletin on Novel #CoronaVirusUpdates #COVID19 \\n@kansalrohit69 @DrSyedSehrish @...</td>\n",
       "      <td>25 july media bulletin on novel #coronavirusupdates #covid19 https tco mn0eecsjhh</td>\n",
       "      <td>[25, july, media, bulletin, on, novel, coronavirusupdates, covid19, https, tco, mn0eecsjhh]</td>\n",
       "      <td>[25, july, media, bulletin, novel, coronavirusupdates, covid19, https, tco, mn0eecsjhh]</td>\n",
       "      <td>[25, juli, media, bulletin, novel, coronavirusupd, covid19, http, tco, mn0eecsjhh]</td>\n",
       "      <td>[25, july, medium, bulletin, novel, coronavirusupdates, covid19, http, tco, mn0eecsjhh]</td>\n",
       "    </tr>\n",
       "  </tbody>\n",
       "</table>\n",
       "</div>"
      ],
      "text/plain": [
       "                                                                                                  text  \\\n",
       "0  If I smelled the scent of hand sanitizers today on someone in the past, I would think they were ...   \n",
       "1  Hey @Yankees @YankeesPR and @MLB - wouldn't it have made more sense to have the players pay thei...   \n",
       "2  @diane3443 @wdunlap @realDonaldTrump Trump never once claimed #COVID19 was a hoax. We all claim ...   \n",
       "3  @brookbanktv The one gift #COVID19 has give me is an appreciation for the simple things that wer...   \n",
       "4  25 July : Media Bulletin on Novel #CoronaVirusUpdates #COVID19 \\n@kansalrohit69 @DrSyedSehrish @...   \n",
       "\n",
       "                                                                                          cleaned_text  \\\n",
       "0  if i smelled the scent of hand sanitizers today on someone in the past i would think they were s...   \n",
       "1  hey and wouldnt it have made more sense to have the players pay their respects to the a https tc...   \n",
       "2   trump never once claimed #covid19 was a hoax we all claim that this effort to https tco jkk8vhwhb3   \n",
       "3  the one gift #covid19 has give me is an appreciation for the simple things that were always arou...   \n",
       "4                    25 july media bulletin on novel #coronavirusupdates #covid19 https tco mn0eecsjhh   \n",
       "\n",
       "                                                                                        tokenized_text  \\\n",
       "0  [if, i, smelled, the, scent, of, hand, sanitizers, today, on, someone, in, the, past, i, would, ...   \n",
       "1  [hey, and, wouldnt, it, have, made, more, sense, to, have, the, players, pay, their, respects, t...   \n",
       "2  [trump, never, once, claimed, covid19, was, a, hoax, we, all, claim, that, this, effort, to, htt...   \n",
       "3  [the, one, gift, covid19, has, give, me, is, an, appreciation, for, the, simple, things, that, w...   \n",
       "4          [25, july, media, bulletin, on, novel, coronavirusupdates, covid19, https, tco, mn0eecsjhh]   \n",
       "\n",
       "                                                                                          no_stopwords  \\\n",
       "0  [smelled, scent, hand, sanitizers, today, someone, past, would, think, intoxicated, https, tco, ...   \n",
       "1                          [hey, wouldnt, made, sense, players, pay, respects, https, tco, 1qvw0zgypu]   \n",
       "2                        [trump, never, claimed, covid19, hoax, claim, effort, https, tco, jkk8vhwhb3]   \n",
       "3     [one, gift, covid19, give, appreciation, simple, things, always, around, https, tco, z0poalfxcw]   \n",
       "4              [25, july, media, bulletin, novel, coronavirusupdates, covid19, https, tco, mn0eecsjhh]   \n",
       "\n",
       "                                                                                   stemmed_text  \\\n",
       "0  [smell, scent, hand, sanit, today, someon, past, would, think, intox, http, tco, qzvybrogb0]   \n",
       "1                       [hey, wouldnt, made, sens, player, pay, respect, http, tco, 1qvw0zgypu]   \n",
       "2                    [trump, never, claim, covid19, hoax, claim, effort, http, tco, jkk8vhwhb3]   \n",
       "3       [one, gift, covid19, give, appreci, simpl, thing, alway, around, http, tco, z0poalfxcw]   \n",
       "4            [25, juli, media, bulletin, novel, coronavirusupd, covid19, http, tco, mn0eecsjhh]   \n",
       "\n",
       "                                                                                       Lemmatized_text  \n",
       "0  [smelled, scent, hand, sanitizers, today, someone, past, would, think, intoxicated, http, tco, q...  \n",
       "1                             [hey, wouldnt, made, sense, player, pay, respect, http, tco, 1qvw0zgypu]  \n",
       "2                         [trump, never, claimed, covid19, hoax, claim, effort, http, tco, jkk8vhwhb3]  \n",
       "3       [one, gift, covid19, give, appreciation, simple, thing, always, around, http, tco, z0poalfxcw]  \n",
       "4              [25, july, medium, bulletin, novel, coronavirusupdates, covid19, http, tco, mn0eecsjhh]  "
      ]
     },
     "execution_count": 12,
     "metadata": {},
     "output_type": "execute_result"
    }
   ],
   "source": [
    "#Word Lemmatization\n",
    "word_lemmatizer = WordNetLemmatizer()\n",
    "def lemmatizer(text):\n",
    "    text = [word_lemmatizer.lemmatize(word) for word in text]\n",
    "    return text\n",
    "tweets['Lemmatized_text'] = tweets['no_stopwords'].apply(lambda x: lemmatizer(x))\n",
    "tweets.head()"
   ]
  },
  {
   "cell_type": "markdown",
   "metadata": {},
   "source": [
    "# USING TEXT BLOB FOR SENTIMENT ANALYSIS\n"
   ]
  },
  {
   "cell_type": "code",
   "execution_count": 13,
   "metadata": {},
   "outputs": [
    {
     "data": {
      "text/html": [
       "<div>\n",
       "<style scoped>\n",
       "    .dataframe tbody tr th:only-of-type {\n",
       "        vertical-align: middle;\n",
       "    }\n",
       "\n",
       "    .dataframe tbody tr th {\n",
       "        vertical-align: top;\n",
       "    }\n",
       "\n",
       "    .dataframe thead th {\n",
       "        text-align: right;\n",
       "    }\n",
       "</style>\n",
       "<table border=\"1\" class=\"dataframe\">\n",
       "  <thead>\n",
       "    <tr style=\"text-align: right;\">\n",
       "      <th></th>\n",
       "      <th>text</th>\n",
       "      <th>cleaned_text</th>\n",
       "      <th>tokenized_text</th>\n",
       "      <th>no_stopwords</th>\n",
       "      <th>stemmed_text</th>\n",
       "      <th>Lemmatized_text</th>\n",
       "      <th>sentiment_score</th>\n",
       "    </tr>\n",
       "  </thead>\n",
       "  <tbody>\n",
       "    <tr>\n",
       "      <th>0</th>\n",
       "      <td>If I smelled the scent of hand sanitizers today on someone in the past, I would think they were ...</td>\n",
       "      <td>if i smelled the scent of hand sanitizers today on someone in the past i would think they were s...</td>\n",
       "      <td>[if, i, smelled, the, scent, of, hand, sanitizers, today, on, someone, in, the, past, i, would, ...</td>\n",
       "      <td>[smelled, scent, hand, sanitizers, today, someone, past, would, think, intoxicated, https, tco, ...</td>\n",
       "      <td>[smell, scent, hand, sanit, today, someon, past, would, think, intox, http, tco, qzvybrogb0]</td>\n",
       "      <td>[smelled, scent, hand, sanitizers, today, someone, past, would, think, intoxicated, http, tco, q...</td>\n",
       "      <td>-0.25</td>\n",
       "    </tr>\n",
       "    <tr>\n",
       "      <th>1</th>\n",
       "      <td>Hey @Yankees @YankeesPR and @MLB - wouldn't it have made more sense to have the players pay thei...</td>\n",
       "      <td>hey and wouldnt it have made more sense to have the players pay their respects to the a https tc...</td>\n",
       "      <td>[hey, and, wouldnt, it, have, made, more, sense, to, have, the, players, pay, their, respects, t...</td>\n",
       "      <td>[hey, wouldnt, made, sense, players, pay, respects, https, tco, 1qvw0zgypu]</td>\n",
       "      <td>[hey, wouldnt, made, sens, player, pay, respect, http, tco, 1qvw0zgypu]</td>\n",
       "      <td>[hey, wouldnt, made, sense, player, pay, respect, http, tco, 1qvw0zgypu]</td>\n",
       "      <td>0.50</td>\n",
       "    </tr>\n",
       "    <tr>\n",
       "      <th>2</th>\n",
       "      <td>@diane3443 @wdunlap @realDonaldTrump Trump never once claimed #COVID19 was a hoax. We all claim ...</td>\n",
       "      <td>trump never once claimed #covid19 was a hoax we all claim that this effort to https tco jkk8vhwhb3</td>\n",
       "      <td>[trump, never, once, claimed, covid19, was, a, hoax, we, all, claim, that, this, effort, to, htt...</td>\n",
       "      <td>[trump, never, claimed, covid19, hoax, claim, effort, https, tco, jkk8vhwhb3]</td>\n",
       "      <td>[trump, never, claim, covid19, hoax, claim, effort, http, tco, jkk8vhwhb3]</td>\n",
       "      <td>[trump, never, claimed, covid19, hoax, claim, effort, http, tco, jkk8vhwhb3]</td>\n",
       "      <td>0.00</td>\n",
       "    </tr>\n",
       "    <tr>\n",
       "      <th>3</th>\n",
       "      <td>@brookbanktv The one gift #COVID19 has give me is an appreciation for the simple things that wer...</td>\n",
       "      <td>the one gift #covid19 has give me is an appreciation for the simple things that were always arou...</td>\n",
       "      <td>[the, one, gift, covid19, has, give, me, is, an, appreciation, for, the, simple, things, that, w...</td>\n",
       "      <td>[one, gift, covid19, give, appreciation, simple, things, always, around, https, tco, z0poalfxcw]</td>\n",
       "      <td>[one, gift, covid19, give, appreci, simpl, thing, alway, around, http, tco, z0poalfxcw]</td>\n",
       "      <td>[one, gift, covid19, give, appreciation, simple, thing, always, around, http, tco, z0poalfxcw]</td>\n",
       "      <td>0.00</td>\n",
       "    </tr>\n",
       "    <tr>\n",
       "      <th>4</th>\n",
       "      <td>25 July : Media Bulletin on Novel #CoronaVirusUpdates #COVID19 \\n@kansalrohit69 @DrSyedSehrish @...</td>\n",
       "      <td>25 july media bulletin on novel #coronavirusupdates #covid19 https tco mn0eecsjhh</td>\n",
       "      <td>[25, july, media, bulletin, on, novel, coronavirusupdates, covid19, https, tco, mn0eecsjhh]</td>\n",
       "      <td>[25, july, media, bulletin, novel, coronavirusupdates, covid19, https, tco, mn0eecsjhh]</td>\n",
       "      <td>[25, juli, media, bulletin, novel, coronavirusupd, covid19, http, tco, mn0eecsjhh]</td>\n",
       "      <td>[25, july, medium, bulletin, novel, coronavirusupdates, covid19, http, tco, mn0eecsjhh]</td>\n",
       "      <td>0.00</td>\n",
       "    </tr>\n",
       "  </tbody>\n",
       "</table>\n",
       "</div>"
      ],
      "text/plain": [
       "                                                                                                  text  \\\n",
       "0  If I smelled the scent of hand sanitizers today on someone in the past, I would think they were ...   \n",
       "1  Hey @Yankees @YankeesPR and @MLB - wouldn't it have made more sense to have the players pay thei...   \n",
       "2  @diane3443 @wdunlap @realDonaldTrump Trump never once claimed #COVID19 was a hoax. We all claim ...   \n",
       "3  @brookbanktv The one gift #COVID19 has give me is an appreciation for the simple things that wer...   \n",
       "4  25 July : Media Bulletin on Novel #CoronaVirusUpdates #COVID19 \\n@kansalrohit69 @DrSyedSehrish @...   \n",
       "\n",
       "                                                                                          cleaned_text  \\\n",
       "0  if i smelled the scent of hand sanitizers today on someone in the past i would think they were s...   \n",
       "1  hey and wouldnt it have made more sense to have the players pay their respects to the a https tc...   \n",
       "2   trump never once claimed #covid19 was a hoax we all claim that this effort to https tco jkk8vhwhb3   \n",
       "3  the one gift #covid19 has give me is an appreciation for the simple things that were always arou...   \n",
       "4                    25 july media bulletin on novel #coronavirusupdates #covid19 https tco mn0eecsjhh   \n",
       "\n",
       "                                                                                        tokenized_text  \\\n",
       "0  [if, i, smelled, the, scent, of, hand, sanitizers, today, on, someone, in, the, past, i, would, ...   \n",
       "1  [hey, and, wouldnt, it, have, made, more, sense, to, have, the, players, pay, their, respects, t...   \n",
       "2  [trump, never, once, claimed, covid19, was, a, hoax, we, all, claim, that, this, effort, to, htt...   \n",
       "3  [the, one, gift, covid19, has, give, me, is, an, appreciation, for, the, simple, things, that, w...   \n",
       "4          [25, july, media, bulletin, on, novel, coronavirusupdates, covid19, https, tco, mn0eecsjhh]   \n",
       "\n",
       "                                                                                          no_stopwords  \\\n",
       "0  [smelled, scent, hand, sanitizers, today, someone, past, would, think, intoxicated, https, tco, ...   \n",
       "1                          [hey, wouldnt, made, sense, players, pay, respects, https, tco, 1qvw0zgypu]   \n",
       "2                        [trump, never, claimed, covid19, hoax, claim, effort, https, tco, jkk8vhwhb3]   \n",
       "3     [one, gift, covid19, give, appreciation, simple, things, always, around, https, tco, z0poalfxcw]   \n",
       "4              [25, july, media, bulletin, novel, coronavirusupdates, covid19, https, tco, mn0eecsjhh]   \n",
       "\n",
       "                                                                                   stemmed_text  \\\n",
       "0  [smell, scent, hand, sanit, today, someon, past, would, think, intox, http, tco, qzvybrogb0]   \n",
       "1                       [hey, wouldnt, made, sens, player, pay, respect, http, tco, 1qvw0zgypu]   \n",
       "2                    [trump, never, claim, covid19, hoax, claim, effort, http, tco, jkk8vhwhb3]   \n",
       "3       [one, gift, covid19, give, appreci, simpl, thing, alway, around, http, tco, z0poalfxcw]   \n",
       "4            [25, juli, media, bulletin, novel, coronavirusupd, covid19, http, tco, mn0eecsjhh]   \n",
       "\n",
       "                                                                                       Lemmatized_text  \\\n",
       "0  [smelled, scent, hand, sanitizers, today, someone, past, would, think, intoxicated, http, tco, q...   \n",
       "1                             [hey, wouldnt, made, sense, player, pay, respect, http, tco, 1qvw0zgypu]   \n",
       "2                         [trump, never, claimed, covid19, hoax, claim, effort, http, tco, jkk8vhwhb3]   \n",
       "3       [one, gift, covid19, give, appreciation, simple, thing, always, around, http, tco, z0poalfxcw]   \n",
       "4              [25, july, medium, bulletin, novel, coronavirusupdates, covid19, http, tco, mn0eecsjhh]   \n",
       "\n",
       "   sentiment_score  \n",
       "0            -0.25  \n",
       "1             0.50  \n",
       "2             0.00  \n",
       "3             0.00  \n",
       "4             0.00  "
      ]
     },
     "execution_count": 13,
     "metadata": {},
     "output_type": "execute_result"
    }
   ],
   "source": [
    "def sentiment_analyzer(text):\n",
    "    sentiment = TextBlob(text) # textblob is library that performs semantic analysis on textual data with complex operations\n",
    "    return sentiment.sentiment.polarity\n",
    "tweets['sentiment_score'] = tweets['cleaned_text'].apply(sentiment_analyzer)\n",
    "tweets.head()"
   ]
  },
  {
   "cell_type": "code",
   "execution_count": 14,
   "metadata": {},
   "outputs": [
    {
     "data": {
      "text/plain": [
       "(-1.0, 1.0)"
      ]
     },
     "execution_count": 14,
     "metadata": {},
     "output_type": "execute_result"
    }
   ],
   "source": [
    "#printing out the maximum and minimum sentiment scores\n",
    "tweets.sentiment_score.min(), tweets.sentiment_score.max()"
   ]
  },
  {
   "cell_type": "code",
   "execution_count": 15,
   "metadata": {},
   "outputs": [
    {
     "data": {
      "text/html": [
       "<div>\n",
       "<style scoped>\n",
       "    .dataframe tbody tr th:only-of-type {\n",
       "        vertical-align: middle;\n",
       "    }\n",
       "\n",
       "    .dataframe tbody tr th {\n",
       "        vertical-align: top;\n",
       "    }\n",
       "\n",
       "    .dataframe thead th {\n",
       "        text-align: right;\n",
       "    }\n",
       "</style>\n",
       "<table border=\"1\" class=\"dataframe\">\n",
       "  <thead>\n",
       "    <tr style=\"text-align: right;\">\n",
       "      <th></th>\n",
       "      <th>text</th>\n",
       "      <th>cleaned_text</th>\n",
       "      <th>tokenized_text</th>\n",
       "      <th>no_stopwords</th>\n",
       "      <th>stemmed_text</th>\n",
       "      <th>Lemmatized_text</th>\n",
       "      <th>sentiment_score</th>\n",
       "      <th>Label</th>\n",
       "    </tr>\n",
       "  </thead>\n",
       "  <tbody>\n",
       "    <tr>\n",
       "      <th>0</th>\n",
       "      <td>If I smelled the scent of hand sanitizers today on someone in the past, I would think they were ...</td>\n",
       "      <td>if i smelled the scent of hand sanitizers today on someone in the past i would think they were s...</td>\n",
       "      <td>[if, i, smelled, the, scent, of, hand, sanitizers, today, on, someone, in, the, past, i, would, ...</td>\n",
       "      <td>[smelled, scent, hand, sanitizers, today, someone, past, would, think, intoxicated, https, tco, ...</td>\n",
       "      <td>[smell, scent, hand, sanit, today, someon, past, would, think, intox, http, tco, qzvybrogb0]</td>\n",
       "      <td>[smelled, scent, hand, sanitizers, today, someone, past, would, think, intoxicated, http, tco, q...</td>\n",
       "      <td>-0.25</td>\n",
       "      <td>Negative</td>\n",
       "    </tr>\n",
       "    <tr>\n",
       "      <th>1</th>\n",
       "      <td>Hey @Yankees @YankeesPR and @MLB - wouldn't it have made more sense to have the players pay thei...</td>\n",
       "      <td>hey and wouldnt it have made more sense to have the players pay their respects to the a https tc...</td>\n",
       "      <td>[hey, and, wouldnt, it, have, made, more, sense, to, have, the, players, pay, their, respects, t...</td>\n",
       "      <td>[hey, wouldnt, made, sense, players, pay, respects, https, tco, 1qvw0zgypu]</td>\n",
       "      <td>[hey, wouldnt, made, sens, player, pay, respect, http, tco, 1qvw0zgypu]</td>\n",
       "      <td>[hey, wouldnt, made, sense, player, pay, respect, http, tco, 1qvw0zgypu]</td>\n",
       "      <td>0.50</td>\n",
       "      <td>Positive</td>\n",
       "    </tr>\n",
       "    <tr>\n",
       "      <th>2</th>\n",
       "      <td>@diane3443 @wdunlap @realDonaldTrump Trump never once claimed #COVID19 was a hoax. We all claim ...</td>\n",
       "      <td>trump never once claimed #covid19 was a hoax we all claim that this effort to https tco jkk8vhwhb3</td>\n",
       "      <td>[trump, never, once, claimed, covid19, was, a, hoax, we, all, claim, that, this, effort, to, htt...</td>\n",
       "      <td>[trump, never, claimed, covid19, hoax, claim, effort, https, tco, jkk8vhwhb3]</td>\n",
       "      <td>[trump, never, claim, covid19, hoax, claim, effort, http, tco, jkk8vhwhb3]</td>\n",
       "      <td>[trump, never, claimed, covid19, hoax, claim, effort, http, tco, jkk8vhwhb3]</td>\n",
       "      <td>0.00</td>\n",
       "      <td>Neutral</td>\n",
       "    </tr>\n",
       "    <tr>\n",
       "      <th>3</th>\n",
       "      <td>@brookbanktv The one gift #COVID19 has give me is an appreciation for the simple things that wer...</td>\n",
       "      <td>the one gift #covid19 has give me is an appreciation for the simple things that were always arou...</td>\n",
       "      <td>[the, one, gift, covid19, has, give, me, is, an, appreciation, for, the, simple, things, that, w...</td>\n",
       "      <td>[one, gift, covid19, give, appreciation, simple, things, always, around, https, tco, z0poalfxcw]</td>\n",
       "      <td>[one, gift, covid19, give, appreci, simpl, thing, alway, around, http, tco, z0poalfxcw]</td>\n",
       "      <td>[one, gift, covid19, give, appreciation, simple, thing, always, around, http, tco, z0poalfxcw]</td>\n",
       "      <td>0.00</td>\n",
       "      <td>Neutral</td>\n",
       "    </tr>\n",
       "    <tr>\n",
       "      <th>4</th>\n",
       "      <td>25 July : Media Bulletin on Novel #CoronaVirusUpdates #COVID19 \\n@kansalrohit69 @DrSyedSehrish @...</td>\n",
       "      <td>25 july media bulletin on novel #coronavirusupdates #covid19 https tco mn0eecsjhh</td>\n",
       "      <td>[25, july, media, bulletin, on, novel, coronavirusupdates, covid19, https, tco, mn0eecsjhh]</td>\n",
       "      <td>[25, july, media, bulletin, novel, coronavirusupdates, covid19, https, tco, mn0eecsjhh]</td>\n",
       "      <td>[25, juli, media, bulletin, novel, coronavirusupd, covid19, http, tco, mn0eecsjhh]</td>\n",
       "      <td>[25, july, medium, bulletin, novel, coronavirusupdates, covid19, http, tco, mn0eecsjhh]</td>\n",
       "      <td>0.00</td>\n",
       "      <td>Neutral</td>\n",
       "    </tr>\n",
       "  </tbody>\n",
       "</table>\n",
       "</div>"
      ],
      "text/plain": [
       "                                                                                                  text  \\\n",
       "0  If I smelled the scent of hand sanitizers today on someone in the past, I would think they were ...   \n",
       "1  Hey @Yankees @YankeesPR and @MLB - wouldn't it have made more sense to have the players pay thei...   \n",
       "2  @diane3443 @wdunlap @realDonaldTrump Trump never once claimed #COVID19 was a hoax. We all claim ...   \n",
       "3  @brookbanktv The one gift #COVID19 has give me is an appreciation for the simple things that wer...   \n",
       "4  25 July : Media Bulletin on Novel #CoronaVirusUpdates #COVID19 \\n@kansalrohit69 @DrSyedSehrish @...   \n",
       "\n",
       "                                                                                          cleaned_text  \\\n",
       "0  if i smelled the scent of hand sanitizers today on someone in the past i would think they were s...   \n",
       "1  hey and wouldnt it have made more sense to have the players pay their respects to the a https tc...   \n",
       "2   trump never once claimed #covid19 was a hoax we all claim that this effort to https tco jkk8vhwhb3   \n",
       "3  the one gift #covid19 has give me is an appreciation for the simple things that were always arou...   \n",
       "4                    25 july media bulletin on novel #coronavirusupdates #covid19 https tco mn0eecsjhh   \n",
       "\n",
       "                                                                                        tokenized_text  \\\n",
       "0  [if, i, smelled, the, scent, of, hand, sanitizers, today, on, someone, in, the, past, i, would, ...   \n",
       "1  [hey, and, wouldnt, it, have, made, more, sense, to, have, the, players, pay, their, respects, t...   \n",
       "2  [trump, never, once, claimed, covid19, was, a, hoax, we, all, claim, that, this, effort, to, htt...   \n",
       "3  [the, one, gift, covid19, has, give, me, is, an, appreciation, for, the, simple, things, that, w...   \n",
       "4          [25, july, media, bulletin, on, novel, coronavirusupdates, covid19, https, tco, mn0eecsjhh]   \n",
       "\n",
       "                                                                                          no_stopwords  \\\n",
       "0  [smelled, scent, hand, sanitizers, today, someone, past, would, think, intoxicated, https, tco, ...   \n",
       "1                          [hey, wouldnt, made, sense, players, pay, respects, https, tco, 1qvw0zgypu]   \n",
       "2                        [trump, never, claimed, covid19, hoax, claim, effort, https, tco, jkk8vhwhb3]   \n",
       "3     [one, gift, covid19, give, appreciation, simple, things, always, around, https, tco, z0poalfxcw]   \n",
       "4              [25, july, media, bulletin, novel, coronavirusupdates, covid19, https, tco, mn0eecsjhh]   \n",
       "\n",
       "                                                                                   stemmed_text  \\\n",
       "0  [smell, scent, hand, sanit, today, someon, past, would, think, intox, http, tco, qzvybrogb0]   \n",
       "1                       [hey, wouldnt, made, sens, player, pay, respect, http, tco, 1qvw0zgypu]   \n",
       "2                    [trump, never, claim, covid19, hoax, claim, effort, http, tco, jkk8vhwhb3]   \n",
       "3       [one, gift, covid19, give, appreci, simpl, thing, alway, around, http, tco, z0poalfxcw]   \n",
       "4            [25, juli, media, bulletin, novel, coronavirusupd, covid19, http, tco, mn0eecsjhh]   \n",
       "\n",
       "                                                                                       Lemmatized_text  \\\n",
       "0  [smelled, scent, hand, sanitizers, today, someone, past, would, think, intoxicated, http, tco, q...   \n",
       "1                             [hey, wouldnt, made, sense, player, pay, respect, http, tco, 1qvw0zgypu]   \n",
       "2                         [trump, never, claimed, covid19, hoax, claim, effort, http, tco, jkk8vhwhb3]   \n",
       "3       [one, gift, covid19, give, appreciation, simple, thing, always, around, http, tco, z0poalfxcw]   \n",
       "4              [25, july, medium, bulletin, novel, coronavirusupdates, covid19, http, tco, mn0eecsjhh]   \n",
       "\n",
       "   sentiment_score     Label  \n",
       "0            -0.25  Negative  \n",
       "1             0.50  Positive  \n",
       "2             0.00   Neutral  \n",
       "3             0.00   Neutral  \n",
       "4             0.00   Neutral  "
      ]
     },
     "execution_count": 15,
     "metadata": {},
     "output_type": "execute_result"
    }
   ],
   "source": [
    "tweets['sentiment_score'] = tweets['sentiment_score'].astype(np.float32)\n",
    "def sentiment_label(sentiment_score):\n",
    "    if sentiment_score > 0:\n",
    "        sentiment = 'Positive'\n",
    "    elif sentiment_score < 0:\n",
    "        sentiment = 'Negative'\n",
    "    elif sentiment_score == 0:\n",
    "        sentiment = 'Neutral'\n",
    "    return sentiment\n",
    "tweets['Label'] = tweets['sentiment_score'].apply(sentiment_label)\n",
    "tweets.head()"
   ]
  },
  {
   "cell_type": "code",
   "execution_count": 16,
   "metadata": {},
   "outputs": [
    {
     "data": {
      "text/plain": [
       "Text(0.5, 0, 'Labels')"
      ]
     },
     "execution_count": 16,
     "metadata": {},
     "output_type": "execute_result"
    },
    {
     "data": {
      "image/png": "[encoded data removed]",
      "text/plain": [
       "<Figure size 432x288 with 1 Axes>"
      ]
     },
     "metadata": {
      "needs_background": "light"
     },
     "output_type": "display_data"
    }
   ],
   "source": [
    "#checking the distribution of the tweets\n",
    "tweets.Label.value_counts().sort_values().plot(kind = 'bar')\n",
    "plt.ylabel('Number of Tweets')\n",
    "plt.xlabel('Labels')"
   ]
  },
  {
   "cell_type": "code",
   "execution_count": 17,
   "metadata": {},
   "outputs": [
    {
     "data": {
      "text/html": [
       "<div>\n",
       "<style scoped>\n",
       "    .dataframe tbody tr th:only-of-type {\n",
       "        vertical-align: middle;\n",
       "    }\n",
       "\n",
       "    .dataframe tbody tr th {\n",
       "        vertical-align: top;\n",
       "    }\n",
       "\n",
       "    .dataframe thead th {\n",
       "        text-align: right;\n",
       "    }\n",
       "</style>\n",
       "<table border=\"1\" class=\"dataframe\">\n",
       "  <thead>\n",
       "    <tr style=\"text-align: right;\">\n",
       "      <th></th>\n",
       "      <th>text</th>\n",
       "      <th>cleaned_text</th>\n",
       "      <th>tokenized_text</th>\n",
       "      <th>no_stopwords</th>\n",
       "      <th>stemmed_text</th>\n",
       "      <th>Lemmatized_text</th>\n",
       "      <th>sentiment_score</th>\n",
       "      <th>Label</th>\n",
       "    </tr>\n",
       "  </thead>\n",
       "  <tbody>\n",
       "    <tr>\n",
       "      <th>0</th>\n",
       "      <td>If I smelled the scent of hand sanitizers today on someone in the past, I would think they were ...</td>\n",
       "      <td>if i smelled the scent of hand sanitizers today on someone in the past i would think they were s...</td>\n",
       "      <td>[if, i, smelled, the, scent, of, hand, sanitizers, today, on, someone, in, the, past, i, would, ...</td>\n",
       "      <td>[smelled, scent, hand, sanitizers, today, someone, past, would, think, intoxicated, https, tco, ...</td>\n",
       "      <td>[smell, scent, hand, sanit, today, someon, past, would, think, intox, http, tco, qzvybrogb0]</td>\n",
       "      <td>[smelled, scent, hand, sanitizers, today, someone, past, would, think, intoxicated, http, tco, q...</td>\n",
       "      <td>-0.25</td>\n",
       "      <td>Negative</td>\n",
       "    </tr>\n",
       "    <tr>\n",
       "      <th>1</th>\n",
       "      <td>Hey @Yankees @YankeesPR and @MLB - wouldn't it have made more sense to have the players pay thei...</td>\n",
       "      <td>hey and wouldnt it have made more sense to have the players pay their respects to the a https tc...</td>\n",
       "      <td>[hey, and, wouldnt, it, have, made, more, sense, to, have, the, players, pay, their, respects, t...</td>\n",
       "      <td>[hey, wouldnt, made, sense, players, pay, respects, https, tco, 1qvw0zgypu]</td>\n",
       "      <td>[hey, wouldnt, made, sens, player, pay, respect, http, tco, 1qvw0zgypu]</td>\n",
       "      <td>[hey, wouldnt, made, sense, player, pay, respect, http, tco, 1qvw0zgypu]</td>\n",
       "      <td>0.50</td>\n",
       "      <td>Positive</td>\n",
       "    </tr>\n",
       "    <tr>\n",
       "      <th>2</th>\n",
       "      <td>@diane3443 @wdunlap @realDonaldTrump Trump never once claimed #COVID19 was a hoax. We all claim ...</td>\n",
       "      <td>trump never once claimed #covid19 was a hoax we all claim that this effort to https tco jkk8vhwhb3</td>\n",
       "      <td>[trump, never, once, claimed, covid19, was, a, hoax, we, all, claim, that, this, effort, to, htt...</td>\n",
       "      <td>[trump, never, claimed, covid19, hoax, claim, effort, https, tco, jkk8vhwhb3]</td>\n",
       "      <td>[trump, never, claim, covid19, hoax, claim, effort, http, tco, jkk8vhwhb3]</td>\n",
       "      <td>[trump, never, claimed, covid19, hoax, claim, effort, http, tco, jkk8vhwhb3]</td>\n",
       "      <td>0.00</td>\n",
       "      <td>Neutral</td>\n",
       "    </tr>\n",
       "    <tr>\n",
       "      <th>3</th>\n",
       "      <td>@brookbanktv The one gift #COVID19 has give me is an appreciation for the simple things that wer...</td>\n",
       "      <td>the one gift #covid19 has give me is an appreciation for the simple things that were always arou...</td>\n",
       "      <td>[the, one, gift, covid19, has, give, me, is, an, appreciation, for, the, simple, things, that, w...</td>\n",
       "      <td>[one, gift, covid19, give, appreciation, simple, things, always, around, https, tco, z0poalfxcw]</td>\n",
       "      <td>[one, gift, covid19, give, appreci, simpl, thing, alway, around, http, tco, z0poalfxcw]</td>\n",
       "      <td>[one, gift, covid19, give, appreciation, simple, thing, always, around, http, tco, z0poalfxcw]</td>\n",
       "      <td>0.00</td>\n",
       "      <td>Neutral</td>\n",
       "    </tr>\n",
       "    <tr>\n",
       "      <th>4</th>\n",
       "      <td>25 July : Media Bulletin on Novel #CoronaVirusUpdates #COVID19 \\n@kansalrohit69 @DrSyedSehrish @...</td>\n",
       "      <td>25 july media bulletin on novel #coronavirusupdates #covid19 https tco mn0eecsjhh</td>\n",
       "      <td>[25, july, media, bulletin, on, novel, coronavirusupdates, covid19, https, tco, mn0eecsjhh]</td>\n",
       "      <td>[25, july, media, bulletin, novel, coronavirusupdates, covid19, https, tco, mn0eecsjhh]</td>\n",
       "      <td>[25, juli, media, bulletin, novel, coronavirusupd, covid19, http, tco, mn0eecsjhh]</td>\n",
       "      <td>[25, july, medium, bulletin, novel, coronavirusupdates, covid19, http, tco, mn0eecsjhh]</td>\n",
       "      <td>0.00</td>\n",
       "      <td>Neutral</td>\n",
       "    </tr>\n",
       "  </tbody>\n",
       "</table>\n",
       "</div>"
      ],
      "text/plain": [
       "                                                                                                  text  \\\n",
       "0  If I smelled the scent of hand sanitizers today on someone in the past, I would think they were ...   \n",
       "1  Hey @Yankees @YankeesPR and @MLB - wouldn't it have made more sense to have the players pay thei...   \n",
       "2  @diane3443 @wdunlap @realDonaldTrump Trump never once claimed #COVID19 was a hoax. We all claim ...   \n",
       "3  @brookbanktv The one gift #COVID19 has give me is an appreciation for the simple things that wer...   \n",
       "4  25 July : Media Bulletin on Novel #CoronaVirusUpdates #COVID19 \\n@kansalrohit69 @DrSyedSehrish @...   \n",
       "\n",
       "                                                                                          cleaned_text  \\\n",
       "0  if i smelled the scent of hand sanitizers today on someone in the past i would think they were s...   \n",
       "1  hey and wouldnt it have made more sense to have the players pay their respects to the a https tc...   \n",
       "2   trump never once claimed #covid19 was a hoax we all claim that this effort to https tco jkk8vhwhb3   \n",
       "3  the one gift #covid19 has give me is an appreciation for the simple things that were always arou...   \n",
       "4                    25 july media bulletin on novel #coronavirusupdates #covid19 https tco mn0eecsjhh   \n",
       "\n",
       "                                                                                        tokenized_text  \\\n",
       "0  [if, i, smelled, the, scent, of, hand, sanitizers, today, on, someone, in, the, past, i, would, ...   \n",
       "1  [hey, and, wouldnt, it, have, made, more, sense, to, have, the, players, pay, their, respects, t...   \n",
       "2  [trump, never, once, claimed, covid19, was, a, hoax, we, all, claim, that, this, effort, to, htt...   \n",
       "3  [the, one, gift, covid19, has, give, me, is, an, appreciation, for, the, simple, things, that, w...   \n",
       "4          [25, july, media, bulletin, on, novel, coronavirusupdates, covid19, https, tco, mn0eecsjhh]   \n",
       "\n",
       "                                                                                          no_stopwords  \\\n",
       "0  [smelled, scent, hand, sanitizers, today, someone, past, would, think, intoxicated, https, tco, ...   \n",
       "1                          [hey, wouldnt, made, sense, players, pay, respects, https, tco, 1qvw0zgypu]   \n",
       "2                        [trump, never, claimed, covid19, hoax, claim, effort, https, tco, jkk8vhwhb3]   \n",
       "3     [one, gift, covid19, give, appreciation, simple, things, always, around, https, tco, z0poalfxcw]   \n",
       "4              [25, july, media, bulletin, novel, coronavirusupdates, covid19, https, tco, mn0eecsjhh]   \n",
       "\n",
       "                                                                                   stemmed_text  \\\n",
       "0  [smell, scent, hand, sanit, today, someon, past, would, think, intox, http, tco, qzvybrogb0]   \n",
       "1                       [hey, wouldnt, made, sens, player, pay, respect, http, tco, 1qvw0zgypu]   \n",
       "2                    [trump, never, claim, covid19, hoax, claim, effort, http, tco, jkk8vhwhb3]   \n",
       "3       [one, gift, covid19, give, appreci, simpl, thing, alway, around, http, tco, z0poalfxcw]   \n",
       "4            [25, juli, media, bulletin, novel, coronavirusupd, covid19, http, tco, mn0eecsjhh]   \n",
       "\n",
       "                                                                                       Lemmatized_text  \\\n",
       "0  [smelled, scent, hand, sanitizers, today, someone, past, would, think, intoxicated, http, tco, q...   \n",
       "1                             [hey, wouldnt, made, sense, player, pay, respect, http, tco, 1qvw0zgypu]   \n",
       "2                         [trump, never, claimed, covid19, hoax, claim, effort, http, tco, jkk8vhwhb3]   \n",
       "3       [one, gift, covid19, give, appreciation, simple, thing, always, around, http, tco, z0poalfxcw]   \n",
       "4              [25, july, medium, bulletin, novel, coronavirusupdates, covid19, http, tco, mn0eecsjhh]   \n",
       "\n",
       "   sentiment_score     Label  \n",
       "0            -0.25  Negative  \n",
       "1             0.50  Positive  \n",
       "2             0.00   Neutral  \n",
       "3             0.00   Neutral  \n",
       "4             0.00   Neutral  "
      ]
     },
     "execution_count": 17,
     "metadata": {},
     "output_type": "execute_result"
    }
   ],
   "source": [
    "tweets.head()"
   ]
  },
  {
   "cell_type": "code",
   "execution_count": 18,
   "metadata": {},
   "outputs": [],
   "source": [
    "pos_tweets = tweets[tweets['Label'] == 'Positive']\n",
    "neg_tweets = tweets[tweets['Label'] == 'Negative']\n",
    "neut_tweets = tweets[tweets['Label'] == 'Neutral']"
   ]
  },
  {
   "cell_type": "code",
   "execution_count": 19,
   "metadata": {},
   "outputs": [
    {
     "data": {
      "image/png": "[encoded data removed]",
      "text/plain": [
       "<Figure size 864x864 with 1 Axes>"
      ]
     },
     "metadata": {
      "needs_background": "light"
     },
     "output_type": "display_data"
    }
   ],
   "source": [
    "#wordcloud visualization\n",
    "def plot_wordcloud(data, title = None):\n",
    "    wordcloud = WordCloud(\n",
    "        background_color='white',\n",
    "        stopwords=stopwords,\n",
    "        max_words=200,\n",
    "        max_font_size=12, \n",
    "        scale=3,\n",
    "        random_state=1 # chosen at random by flipping a coin; it was heads\n",
    "    ).generate(str(data))\n",
    "\n",
    "    fig = plt.figure(1, figsize=(12, 12))\n",
    "    plt.axis('off')\n",
    "    if title: \n",
    "        fig.suptitle(title, fontsize=20)\n",
    "        fig.subplots_adjust(top=2.3)\n",
    "\n",
    "    plt.imshow(wordcloud)\n",
    "    plt.show()\n",
    "plot_wordcloud(pos_tweets['cleaned_text'])\n"
   ]
  },
  {
   "cell_type": "code",
   "execution_count": 20,
   "metadata": {},
   "outputs": [
    {
     "data": {
      "image/png": "[encoded data removed]",
      "text/plain": [
       "<Figure size 864x864 with 1 Axes>"
      ]
     },
     "metadata": {
      "needs_background": "light"
     },
     "output_type": "display_data"
    }
   ],
   "source": [
    "plot_wordcloud(neg_tweets['cleaned_text'])"
   ]
  },
  {
   "cell_type": "code",
   "execution_count": 21,
   "metadata": {},
   "outputs": [
    {
     "data": {
      "image/png": "[encoded data removed]",
      "text/plain": [
       "<Figure size 864x864 with 1 Axes>"
      ]
     },
     "metadata": {
      "needs_background": "light"
     },
     "output_type": "display_data"
    }
   ],
   "source": [
    "plot_wordcloud(neut_tweets['cleaned_text'])"
   ]
  },
  {
   "cell_type": "markdown",
   "metadata": {},
   "source": [
    "# IMPLEMENTATION OF MACHINE LEARNING MODELS\n"
   ]
  },
  {
   "cell_type": "code",
   "execution_count": 22,
   "metadata": {},
   "outputs": [
    {
     "name": "stderr",
     "output_type": "stream",
     "text": [
      "<ipython-input-22-3749ed071b2c>:6: SettingWithCopyWarning: \n",
      "A value is trying to be set on a copy of a slice from a DataFrame.\n",
      "Try using .loc[row_indexer,col_indexer] = value instead\n",
      "\n",
      "See the caveats in the documentation: https://pandas.pydata.org/pandas-docs/stable/user_guide/indexing.html#returning-a-view-versus-a-copy\n",
      "  ml_data['Label'] = ml_data['Label'].map(label_mapping)\n"
     ]
    },
    {
     "data": {
      "text/html": [
       "<div>\n",
       "<style scoped>\n",
       "    .dataframe tbody tr th:only-of-type {\n",
       "        vertical-align: middle;\n",
       "    }\n",
       "\n",
       "    .dataframe tbody tr th {\n",
       "        vertical-align: top;\n",
       "    }\n",
       "\n",
       "    .dataframe thead th {\n",
       "        text-align: right;\n",
       "    }\n",
       "</style>\n",
       "<table border=\"1\" class=\"dataframe\">\n",
       "  <thead>\n",
       "    <tr style=\"text-align: right;\">\n",
       "      <th></th>\n",
       "      <th>cleaned_text</th>\n",
       "      <th>Label</th>\n",
       "      <th>stemmed_text</th>\n",
       "      <th>Lemmatized_text</th>\n",
       "    </tr>\n",
       "  </thead>\n",
       "  <tbody>\n",
       "    <tr>\n",
       "      <th>27858</th>\n",
       "      <td>im short 200 its very difficult times and tomorrow is my deadline or they take my car and repo i...</td>\n",
       "      <td>2</td>\n",
       "      <td>[im, short, 200, difficult, time, tomorrow, deadlin, take, car, repo, plz, dona, http, tco, iev6...</td>\n",
       "      <td>[im, short, 200, difficult, time, tomorrow, deadline, take, car, repo, plz, dona, http, tco, iev...</td>\n",
       "    </tr>\n",
       "    <tr>\n",
       "      <th>19995</th>\n",
       "      <td>health update please note the new advice from nsw health when visiting our health facilities#hea...</td>\n",
       "      <td>1</td>\n",
       "      <td>[health, updat, pleas, note, new, advic, nsw, health, visit, health, facil, health, covid19, htt...</td>\n",
       "      <td>[health, update, please, note, new, advice, nsw, health, visiting, health, facility, health, cov...</td>\n",
       "    </tr>\n",
       "    <tr>\n",
       "      <th>60566</th>\n",
       "      <td>thank lord that you have ushered us into another month of 2020 may you continue to sustain us ev...</td>\n",
       "      <td>0</td>\n",
       "      <td>[thank, lord, usher, us, anoth, month, 2020, may, continu, sustain, us, even, unusua, http, tco,...</td>\n",
       "      <td>[thank, lord, ushered, u, another, month, 2020, may, continue, sustain, u, even, unusua, http, t...</td>\n",
       "    </tr>\n",
       "    <tr>\n",
       "      <th>140255</th>\n",
       "      <td>facemask for only p25wear a fashionable ethnic vinta facemask #vinta #facemask #protection #coro...</td>\n",
       "      <td>0</td>\n",
       "      <td>[facemask, p25wear, fashion, ethnic, vinta, facemask, vinta, facemask, protect, coronaviru, http...</td>\n",
       "      <td>[facemask, p25wear, fashionable, ethnic, vinta, facemask, vinta, facemask, protection, coronavir...</td>\n",
       "    </tr>\n",
       "    <tr>\n",
       "      <th>21932</th>\n",
       "      <td>the cases detected last night in #tisnukia district include an employee from issue branch of dc ...</td>\n",
       "      <td>0</td>\n",
       "      <td>[case, detect, last, night, tisnukia, district, includ, employe, issu, branch, dc, offic, person...</td>\n",
       "      <td>[case, detected, last, night, tisnukia, district, include, employee, issue, branch, dc, office, ...</td>\n",
       "    </tr>\n",
       "  </tbody>\n",
       "</table>\n",
       "</div>"
      ],
      "text/plain": [
       "                                                                                               cleaned_text  \\\n",
       "27858   im short 200 its very difficult times and tomorrow is my deadline or they take my car and repo i...   \n",
       "19995   health update please note the new advice from nsw health when visiting our health facilities#hea...   \n",
       "60566   thank lord that you have ushered us into another month of 2020 may you continue to sustain us ev...   \n",
       "140255  facemask for only p25wear a fashionable ethnic vinta facemask #vinta #facemask #protection #coro...   \n",
       "21932   the cases detected last night in #tisnukia district include an employee from issue branch of dc ...   \n",
       "\n",
       "        Label  \\\n",
       "27858       2   \n",
       "19995       1   \n",
       "60566       0   \n",
       "140255      0   \n",
       "21932       0   \n",
       "\n",
       "                                                                                               stemmed_text  \\\n",
       "27858   [im, short, 200, difficult, time, tomorrow, deadlin, take, car, repo, plz, dona, http, tco, iev6...   \n",
       "19995   [health, updat, pleas, note, new, advic, nsw, health, visit, health, facil, health, covid19, htt...   \n",
       "60566   [thank, lord, usher, us, anoth, month, 2020, may, continu, sustain, us, even, unusua, http, tco,...   \n",
       "140255  [facemask, p25wear, fashion, ethnic, vinta, facemask, vinta, facemask, protect, coronaviru, http...   \n",
       "21932   [case, detect, last, night, tisnukia, district, includ, employe, issu, branch, dc, offic, person...   \n",
       "\n",
       "                                                                                            Lemmatized_text  \n",
       "27858   [im, short, 200, difficult, time, tomorrow, deadline, take, car, repo, plz, dona, http, tco, iev...  \n",
       "19995   [health, update, please, note, new, advice, nsw, health, visiting, health, facility, health, cov...  \n",
       "60566   [thank, lord, ushered, u, another, month, 2020, may, continue, sustain, u, even, unusua, http, t...  \n",
       "140255  [facemask, p25wear, fashionable, ethnic, vinta, facemask, vinta, facemask, protection, coronavir...  \n",
       "21932   [case, detected, last, night, tisnukia, district, include, employee, issue, branch, dc, office, ...  "
      ]
     },
     "execution_count": 22,
     "metadata": {},
     "output_type": "execute_result"
    }
   ],
   "source": [
    "ml_data = tweets[['cleaned_text', 'Label', 'stemmed_text', 'Lemmatized_text']]\n",
    "#creating mappings for the classification\n",
    "label_mapping = {'Neutral':0, \n",
    "                'Positive':1, \n",
    "                'Negative':2}\n",
    "ml_data['Label'] = ml_data['Label'].map(label_mapping)\n",
    "#shuffling the data\n",
    "ml_data = ml_data.sample(frac=1)\n",
    "#creating training and test sets\n",
    "train_set, test_set = train_test_split(ml_data, test_size=0.3, random_state=101)\n",
    "train_set.head()"
   ]
  },
  {
   "cell_type": "code",
   "execution_count": 23,
   "metadata": {},
   "outputs": [
    {
     "name": "stdout",
     "output_type": "stream",
     "text": [
      "<class 'pandas.core.frame.DataFrame'>\n",
      "Int64Index: 125375 entries, 27858 to 16584\n",
      "Data columns (total 4 columns):\n",
      " #   Column           Non-Null Count   Dtype \n",
      "---  ------           --------------   ----- \n",
      " 0   cleaned_text     125375 non-null  object\n",
      " 1   Label            125375 non-null  int64 \n",
      " 2   stemmed_text     125375 non-null  object\n",
      " 3   Lemmatized_text  125375 non-null  object\n",
      "dtypes: int64(1), object(3)\n",
      "memory usage: 4.8+ MB\n"
     ]
    }
   ],
   "source": [
    "train_set.info()"
   ]
  },
  {
   "cell_type": "code",
   "execution_count": 24,
   "metadata": {},
   "outputs": [],
   "source": [
    "#defining the features and targets\n",
    "X = train_set['cleaned_text']\n",
    "y = train_set['Label']\n",
    "#implementation of text vectorization\n",
    "count_vectorizer = CountVectorizer(lowercase=False)\n",
    "tfidf_vectorizer = TfidfVectorizer()\n",
    "X_cv_transformed = count_vectorizer.fit_transform(X)\n",
    "X_tf_transformed = tfidf_vectorizer.fit_transform(X)\n",
    "X_test = test_set['cleaned_text']\n",
    "X_test_cv_transformed = count_vectorizer.transform(X_test)\n",
    "X_test_tfidf_transformed = tfidf_vectorizer.transform(X_test)"
   ]
  },
  {
   "cell_type": "markdown",
   "metadata": {},
   "source": [
    "# Bag of Words Model"
   ]
  },
  {
   "cell_type": "code",
   "execution_count": 25,
   "metadata": {},
   "outputs": [],
   "source": [
    "#creating the training and test sets\n",
    "X_train, X_valid, y_train, y_valid = train_test_split(X_cv_transformed, y, test_size=0.25, random_state=42)\n"
   ]
  },
  {
   "cell_type": "code",
   "execution_count": 26,
   "metadata": {},
   "outputs": [],
   "source": [
    "#implementing the machine learning models\n",
    "#NAIVE-BAYES CLASSIFIER\n",
    "nb = MultinomialNB()\n",
    "nb.fit(X_train, y_train)\n",
    "predictions = nb.predict(X_valid)\n"
   ]
  },
  {
   "cell_type": "code",
   "execution_count": 27,
   "metadata": {},
   "outputs": [
    {
     "name": "stdout",
     "output_type": "stream",
     "text": [
      "              precision    recall  f1-score   support\n",
      "\n",
      "           0       0.92      0.80      0.86     13123\n",
      "           1       0.70      0.97      0.81     12913\n",
      "           2       0.86      0.31      0.45      5308\n",
      "\n",
      "    accuracy                           0.79     31344\n",
      "   macro avg       0.82      0.69      0.71     31344\n",
      "weighted avg       0.82      0.79      0.77     31344\n",
      "\n"
     ]
    }
   ],
   "source": [
    "#evaluating the performance of the model.\n",
    "\n",
    "print(metrics.classification_report(y_valid, predictions))"
   ]
  },
  {
   "cell_type": "code",
   "execution_count": 28,
   "metadata": {},
   "outputs": [
    {
     "name": "stdout",
     "output_type": "stream",
     "text": [
      "[[10490  2460   173]\n",
      " [  263 12552    98]\n",
      " [  644  3022  1642]]\n"
     ]
    }
   ],
   "source": [
    "print(metrics.confusion_matrix(y_valid, predictions))"
   ]
  },
  {
   "cell_type": "code",
   "execution_count": 29,
   "metadata": {},
   "outputs": [
    {
     "name": "stderr",
     "output_type": "stream",
     "text": [
      "C:\\Users\\shara\\anaconda3\\lib\\site-packages\\sklearn\\linear_model\\_logistic.py:762: ConvergenceWarning: lbfgs failed to converge (status=1):\n",
      "STOP: TOTAL NO. of ITERATIONS REACHED LIMIT.\n",
      "\n",
      "Increase the number of iterations (max_iter) or scale the data as shown in:\n",
      "    https://scikit-learn.org/stable/modules/preprocessing.html\n",
      "Please also refer to the documentation for alternative solver options:\n",
      "    https://scikit-learn.org/stable/modules/linear_model.html#logistic-regression\n",
      "  n_iter_i = _check_optimize_result(\n"
     ]
    }
   ],
   "source": [
    "#Implementing the Logistic Regression Models\n",
    "lr = LogisticRegression()\n",
    "lr.fit(X_train, y_train)\n",
    "lr_predictions = lr.predict(X_valid)"
   ]
  },
  {
   "cell_type": "code",
   "execution_count": 30,
   "metadata": {},
   "outputs": [
    {
     "name": "stdout",
     "output_type": "stream",
     "text": [
      "              precision    recall  f1-score   support\n",
      "\n",
      "           0       0.98      0.95      0.96     13665\n",
      "           1       0.95      0.96      0.95     12824\n",
      "           2       0.85      0.92      0.88      4855\n",
      "\n",
      "    accuracy                           0.95     31344\n",
      "   macro avg       0.93      0.94      0.93     31344\n",
      "weighted avg       0.95      0.95      0.95     31344\n",
      "\n"
     ]
    }
   ],
   "source": [
    "#evaluating the performance of the model\n",
    "print(metrics.classification_report(lr_predictions, y_valid))"
   ]
  },
  {
   "cell_type": "code",
   "execution_count": 31,
   "metadata": {},
   "outputs": [
    {
     "name": "stdout",
     "output_type": "stream",
     "text": [
      "[[12922   355   388]\n",
      " [  134 12260   430]\n",
      " [   67   298  4490]]\n"
     ]
    }
   ],
   "source": [
    "#lr confusion matrix\n",
    "print(metrics.confusion_matrix(lr_predictions, y_valid))"
   ]
  },
  {
   "cell_type": "code",
   "execution_count": 32,
   "metadata": {},
   "outputs": [],
   "source": [
    "#Random Forest Classifer\n",
    "rf = RandomForestClassifier()\n",
    "rf.fit(X_train, y_train)\n",
    "rf_predictions = rf.predict(X_valid)"
   ]
  },
  {
   "cell_type": "code",
   "execution_count": 33,
   "metadata": {},
   "outputs": [
    {
     "name": "stdout",
     "output_type": "stream",
     "text": [
      "              precision    recall  f1-score   support\n",
      "\n",
      "           0       0.82      0.98      0.90     13123\n",
      "           1       0.91      0.89      0.90     12913\n",
      "           2       0.94      0.54      0.68      5308\n",
      "\n",
      "    accuracy                           0.87     31344\n",
      "   macro avg       0.89      0.80      0.83     31344\n",
      "weighted avg       0.88      0.87      0.86     31344\n",
      "\n"
     ]
    }
   ],
   "source": [
    "print(metrics.classification_report(y_valid, rf_predictions))"
   ]
  },
  {
   "cell_type": "code",
   "execution_count": 34,
   "metadata": {},
   "outputs": [],
   "source": [
    "#Decision tree classifier\n",
    "clf = DecisionTreeClassifier()\n",
    "clf.fit(X_train, y_train)\n",
    "clf_predictions = clf.predict(X_valid)"
   ]
  },
  {
   "cell_type": "code",
   "execution_count": 35,
   "metadata": {},
   "outputs": [
    {
     "name": "stdout",
     "output_type": "stream",
     "text": [
      "              precision    recall  f1-score   support\n",
      "\n",
      "           0       0.98      0.99      0.98     13123\n",
      "           1       0.93      0.94      0.94     12913\n",
      "           2       0.87      0.84      0.86      5308\n",
      "\n",
      "    accuracy                           0.94     31344\n",
      "   macro avg       0.93      0.92      0.93     31344\n",
      "weighted avg       0.94      0.94      0.94     31344\n",
      "\n"
     ]
    }
   ],
   "source": [
    "print(metrics.classification_report(y_valid, clf_predictions))"
   ]
  },
  {
   "cell_type": "markdown",
   "metadata": {},
   "source": [
    "# TFIDF Model"
   ]
  },
  {
   "cell_type": "code",
   "execution_count": 36,
   "metadata": {},
   "outputs": [],
   "source": [
    "#creating the training and test sets\n",
    "X_train_tf, X_valid_tf, y_train, y_valid = train_test_split(X_tf_transformed, y, test_size=0.25, random_state=42)"
   ]
  },
  {
   "cell_type": "code",
   "execution_count": 37,
   "metadata": {},
   "outputs": [],
   "source": [
    "#multinomial nb\n",
    "nb_tf = MultinomialNB()\n",
    "nb_tf.fit(X_train_tf, y_train)\n",
    "nb_tf_predictions = nb_tf.predict(X_valid_tf)\n"
   ]
  },
  {
   "cell_type": "code",
   "execution_count": 38,
   "metadata": {},
   "outputs": [
    {
     "name": "stdout",
     "output_type": "stream",
     "text": [
      "              precision    recall  f1-score   support\n",
      "\n",
      "           0       0.71      0.90      0.79     10334\n",
      "           1       0.98      0.61      0.75     20731\n",
      "           2       0.05      1.00      0.10       279\n",
      "\n",
      "    accuracy                           0.71     31344\n",
      "   macro avg       0.58      0.84      0.55     31344\n",
      "weighted avg       0.88      0.71      0.76     31344\n",
      "\n"
     ]
    }
   ],
   "source": [
    "print(metrics.classification_report(nb_tf_predictions, y_valid))"
   ]
  },
  {
   "cell_type": "code",
   "execution_count": 39,
   "metadata": {},
   "outputs": [
    {
     "name": "stderr",
     "output_type": "stream",
     "text": [
      "C:\\Users\\shara\\anaconda3\\lib\\site-packages\\sklearn\\linear_model\\_logistic.py:762: ConvergenceWarning: lbfgs failed to converge (status=1):\n",
      "STOP: TOTAL NO. of ITERATIONS REACHED LIMIT.\n",
      "\n",
      "Increase the number of iterations (max_iter) or scale the data as shown in:\n",
      "    https://scikit-learn.org/stable/modules/preprocessing.html\n",
      "Please also refer to the documentation for alternative solver options:\n",
      "    https://scikit-learn.org/stable/modules/linear_model.html#logistic-regression\n",
      "  n_iter_i = _check_optimize_result(\n"
     ]
    }
   ],
   "source": [
    "#logistic regression\n",
    "log_reg_tf = LogisticRegression()\n",
    "log_reg_tf.fit(X_train_tf, y_train)\n",
    "lr_tf_preds = log_reg_tf.predict(X_valid_tf)"
   ]
  },
  {
   "cell_type": "code",
   "execution_count": 40,
   "metadata": {},
   "outputs": [
    {
     "name": "stdout",
     "output_type": "stream",
     "text": [
      "              precision    recall  f1-score   support\n",
      "\n",
      "           0       0.99      0.88      0.93     14709\n",
      "           1       0.91      0.94      0.93     12570\n",
      "           2       0.71      0.92      0.80      4065\n",
      "\n",
      "    accuracy                           0.91     31344\n",
      "   macro avg       0.87      0.91      0.88     31344\n",
      "weighted avg       0.92      0.91      0.91     31344\n",
      "\n"
     ]
    }
   ],
   "source": [
    "print(metrics.classification_report(lr_tf_preds, y_valid))"
   ]
  },
  {
   "cell_type": "code",
   "execution_count": 41,
   "metadata": {},
   "outputs": [],
   "source": [
    "#random forest\n",
    "rf_tf = RandomForestClassifier()\n",
    "rf_tf.fit(X_train_tf, y_train)\n",
    "rf_tf_preds = rf_tf.predict(X_valid_tf)"
   ]
  },
  {
   "cell_type": "code",
   "execution_count": 42,
   "metadata": {},
   "outputs": [
    {
     "name": "stdout",
     "output_type": "stream",
     "text": [
      "              precision    recall  f1-score   support\n",
      "\n",
      "           0       0.82      0.98      0.89     13123\n",
      "           1       0.90      0.89      0.89     12913\n",
      "           2       0.94      0.52      0.67      5308\n",
      "\n",
      "    accuracy                           0.86     31344\n",
      "   macro avg       0.89      0.80      0.82     31344\n",
      "weighted avg       0.87      0.86      0.86     31344\n",
      "\n"
     ]
    }
   ],
   "source": [
    "print(metrics.classification_report(y_valid, rf_tf_preds))"
   ]
  },
  {
   "cell_type": "code",
   "execution_count": 43,
   "metadata": {},
   "outputs": [],
   "source": [
    "#decision tree classifier\n",
    "clf_tf = DecisionTreeClassifier()\n",
    "clf_tf.fit(X_train_tf, y_train)\n",
    "clf_tf_preds = clf_tf.predict(X_valid_tf)"
   ]
  },
  {
   "cell_type": "code",
   "execution_count": 44,
   "metadata": {},
   "outputs": [
    {
     "name": "stdout",
     "output_type": "stream",
     "text": [
      "              precision    recall  f1-score   support\n",
      "\n",
      "           0       0.98      0.98      0.98     13123\n",
      "           1       0.93      0.94      0.93     12913\n",
      "           2       0.86      0.83      0.85      5308\n",
      "\n",
      "    accuracy                           0.94     31344\n",
      "   macro avg       0.92      0.92      0.92     31344\n",
      "weighted avg       0.94      0.94      0.94     31344\n",
      "\n"
     ]
    }
   ],
   "source": [
    "print(metrics.classification_report(y_valid, clf_tf_preds))"
   ]
  },
  {
   "cell_type": "code",
   "execution_count": 45,
   "metadata": {},
   "outputs": [
    {
     "data": {
      "text/html": [
       "<div>\n",
       "<style scoped>\n",
       "    .dataframe tbody tr th:only-of-type {\n",
       "        vertical-align: middle;\n",
       "    }\n",
       "\n",
       "    .dataframe tbody tr th {\n",
       "        vertical-align: top;\n",
       "    }\n",
       "\n",
       "    .dataframe thead th {\n",
       "        text-align: right;\n",
       "    }\n",
       "</style>\n",
       "<table border=\"1\" class=\"dataframe\">\n",
       "  <thead>\n",
       "    <tr style=\"text-align: right;\">\n",
       "      <th></th>\n",
       "      <th>cleaned_text</th>\n",
       "      <th>stemmed_text</th>\n",
       "      <th>Lemmatized_text</th>\n",
       "      <th>Predicted_sentiment</th>\n",
       "    </tr>\n",
       "  </thead>\n",
       "  <tbody>\n",
       "    <tr>\n",
       "      <th>97934</th>\n",
       "      <td>minnesota reports 618 new cases and 3 new deaths bringing total confirmed cases there to 61 516 ...</td>\n",
       "      <td>[minnesota, report, 618, new, case, 3, new, death, bring, total, confirm, case, 61, 516, 1, 701,...</td>\n",
       "      <td>[minnesota, report, 618, new, case, 3, new, death, bringing, total, confirmed, case, 61, 516, 1,...</td>\n",
       "      <td>Positive</td>\n",
       "    </tr>\n",
       "    <tr>\n",
       "      <th>56404</th>\n",
       "      <td>caring for someone with covid19 at home #covid19 watch video https tco 790tbrrnok https tco bxey...</td>\n",
       "      <td>[care, someon, covid19, home, covid19, watch, video, http, tco, 790tbrrnok, http, tco, bxeyjmlhhf]</td>\n",
       "      <td>[caring, someone, covid19, home, covid19, watch, video, http, tco, 790tbrrnok, http, tco, bxeyjm...</td>\n",
       "      <td>Neutral</td>\n",
       "    </tr>\n",
       "    <tr>\n",
       "      <th>13858</th>\n",
       "      <td>everything emily makes is done with a lot of love and passion and it shows i love her hustle its...</td>\n",
       "      <td>[everyth, emili, make, done, lot, love, passion, show, love, hustl, inspiringem, http, tco, os3v...</td>\n",
       "      <td>[everything, emily, make, done, lot, love, passion, show, love, hustle, inspiringem, http, tco, ...</td>\n",
       "      <td>Positive</td>\n",
       "    </tr>\n",
       "    <tr>\n",
       "      <th>66833</th>\n",
       "      <td>tackling the inequality pandemic #covid19 has laid bare risks ignored for decades ie health syst...</td>\n",
       "      <td>[tackl, inequ, pandem, covid19, laid, bare, risk, ignor, decad, ie, health, system, unabl, http,...</td>\n",
       "      <td>[tackling, inequality, pandemic, covid19, laid, bare, risk, ignored, decade, ie, health, system,...</td>\n",
       "      <td>Negative</td>\n",
       "    </tr>\n",
       "    <tr>\n",
       "      <th>172781</th>\n",
       "      <td>its really too bad that didnt trust his instincts ie the media hysteria over #covid19 is the htt...</td>\n",
       "      <td>[realli, bad, didnt, trust, instinct, ie, media, hysteria, covid19, http, tco, 3gpuv5qxlf]</td>\n",
       "      <td>[really, bad, didnt, trust, instinct, ie, medium, hysteria, covid19, http, tco, 3gpuv5qxlf]</td>\n",
       "      <td>Negative</td>\n",
       "    </tr>\n",
       "  </tbody>\n",
       "</table>\n",
       "</div>"
      ],
      "text/plain": [
       "                                                                                               cleaned_text  \\\n",
       "97934   minnesota reports 618 new cases and 3 new deaths bringing total confirmed cases there to 61 516 ...   \n",
       "56404   caring for someone with covid19 at home #covid19 watch video https tco 790tbrrnok https tco bxey...   \n",
       "13858   everything emily makes is done with a lot of love and passion and it shows i love her hustle its...   \n",
       "66833   tackling the inequality pandemic #covid19 has laid bare risks ignored for decades ie health syst...   \n",
       "172781  its really too bad that didnt trust his instincts ie the media hysteria over #covid19 is the htt...   \n",
       "\n",
       "                                                                                               stemmed_text  \\\n",
       "97934   [minnesota, report, 618, new, case, 3, new, death, bring, total, confirm, case, 61, 516, 1, 701,...   \n",
       "56404    [care, someon, covid19, home, covid19, watch, video, http, tco, 790tbrrnok, http, tco, bxeyjmlhhf]   \n",
       "13858   [everyth, emili, make, done, lot, love, passion, show, love, hustl, inspiringem, http, tco, os3v...   \n",
       "66833   [tackl, inequ, pandem, covid19, laid, bare, risk, ignor, decad, ie, health, system, unabl, http,...   \n",
       "172781           [realli, bad, didnt, trust, instinct, ie, media, hysteria, covid19, http, tco, 3gpuv5qxlf]   \n",
       "\n",
       "                                                                                            Lemmatized_text  \\\n",
       "97934   [minnesota, report, 618, new, case, 3, new, death, bringing, total, confirmed, case, 61, 516, 1,...   \n",
       "56404   [caring, someone, covid19, home, covid19, watch, video, http, tco, 790tbrrnok, http, tco, bxeyjm...   \n",
       "13858   [everything, emily, make, done, lot, love, passion, show, love, hustle, inspiringem, http, tco, ...   \n",
       "66833   [tackling, inequality, pandemic, covid19, laid, bare, risk, ignored, decade, ie, health, system,...   \n",
       "172781          [really, bad, didnt, trust, instinct, ie, medium, hysteria, covid19, http, tco, 3gpuv5qxlf]   \n",
       "\n",
       "       Predicted_sentiment  \n",
       "97934             Positive  \n",
       "56404              Neutral  \n",
       "13858             Positive  \n",
       "66833             Negative  \n",
       "172781            Negative  "
      ]
     },
     "execution_count": 45,
     "metadata": {},
     "output_type": "execute_result"
    }
   ],
   "source": [
    "#The Bag of Words Model as implemented using the Decision Tree classifier Approach is the best model due to its high precision and recall\n",
    "#making predictions on the test set\n",
    "predicted_sentiments = clf.predict(X_test_cv_transformed)\n",
    "test_set = test_set.drop(columns=['Label'], axis=1)\n",
    "test_set['Predicted_sentiment'] = predicted_sentiments\n",
    "label_mapping_pred = {0:'Neutral', \n",
    "                1:'Positive', \n",
    "                2:'Negative'}\n",
    "test_set['Predicted_sentiment'] = test_set['Predicted_sentiment'].map(label_mapping_pred)\n",
    "test_set.head()\n"
   ]
  },
  {
   "cell_type": "code",
   "execution_count": 46,
   "metadata": {},
   "outputs": [],
   "source": [
    "test_set.to_csv('Covid_prediction_sentiments.csv', index=None)"
   ]
  },
  {
   "cell_type": "code",
   "execution_count": null,
   "metadata": {},
   "outputs": [],
   "source": []
  }
 ],
 "metadata": {
  "kernelspec": {
   "display_name": "Python 3",
   "language": "python",
   "name": "python3"
  },
  "language_info": {
   "codemirror_mode": {
    "name": "ipython",
    "version": 3
   },
   "file_extension": ".py",
   "mimetype": "text/x-python",
   "name": "python",
   "nbconvert_exporter": "python",
   "pygments_lexer": "ipython3",
   "version": "3.7.4"
  }
 },
 "nbformat": 4,
 "nbformat_minor": 4
}
